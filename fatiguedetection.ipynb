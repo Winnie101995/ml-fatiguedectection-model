{
 "cells": [
  {
   "cell_type": "markdown",
   "id": "36c77ce0",
   "metadata": {},
   "source": [
    "# COMP47670 Assignment II Autumn 2023\n",
    "## Time Series Running Data\n",
    "\n",
    "## Objective\n",
    "The objective of this assignment is to identify good models for classifying time series data.  \n",
    "The data is from an accelerometer sensor and there are samples of fatigued and non-fatigued running. The data has been segmented into strides and the segments (samples) are labelled F (fatigued) and NF (not fatigued). The data for two subjects A and B are available in the files  `fatigueA.csv` and  `fatigueB.csv`. This dataset is extracted from a much larger dataset described [here](https://openreview.net/pdf?id=9c0lAonDNP).  \n",
    "At present, the best performing method for time-series classification is [Rocket](https://openreview.net/pdf?id=9c0lAonDNP). \n",
    "A rocket implementation is available in the [sktime tool kit](https://www.sktime.net/en/latest/api_reference/auto_generated/sktime.transformations.panel.rocket.Rocket.html). This sktime implementation can be used in this assignment.   \n",
    "Some code to get you started in available in the notebook `RunningCore`.\n",
    "\n"
   ]
  },
  {
   "cell_type": "markdown",
   "id": "14096863",
   "metadata": {},
   "source": [
    "## Understanding the data \n",
    "Data from an accelerometer sensor collected during activities like running can be considered time series data because it consists of measurements taken over time. the data has been segmented into strides, meaning each segment corresponds to one stride, and each is a time series of accelerometer readings.\n",
    "\n",
    "We are dealing with multivariate time series data where data with two or more variables are recorded over time. It is important to note that due to the nature of the dataset cross-validation is able to be used for the dataset as each stride is independent of the next. Usually for time series data there is a natural ordering that needs to be preserved when splitting the data and a time series split enables the possibility of preserving this order however in our case cross-validation is appropriate. "
   ]
  },
  {
   "cell_type": "code",
   "execution_count": 1,
   "id": "ed655030",
   "metadata": {
    "ExecuteTime": {
     "end_time": "2023-11-20T17:05:22.248898Z",
     "start_time": "2023-11-20T17:05:22.236115Z"
    }
   },
   "outputs": [],
   "source": [
    "import pandas as pd\n",
    "import numpy as np\n",
    "import matplotlib.pyplot as plt\n",
    "from sklearn.model_selection import KFold, cross_val_score\n",
    "from sklearn.linear_model import SGDClassifier\n",
    "from sklearn.preprocessing import StandardScaler\n",
    "from sklearn.preprocessing import MinMaxScaler\n",
    "from sklearn.metrics import accuracy_score, confusion_matrix, classification_report, roc_auc_score, roc_curve\n",
    "from sklearn.tree import DecisionTreeClassifier\n",
    "from sklearn.naive_bayes import MultinomialNB, GaussianNB, BernoulliNB\n",
    "from sklearn.neighbors import KNeighborsClassifier\n",
    "from sklearn.ensemble import RandomForestClassifier\n",
    "\n",
    "from sklearn.metrics import make_scorer\n",
    "from sklearn.svm import SVC \n",
    "\n",
    "import warnings\n",
    "from sklearn.exceptions import ConvergenceWarning\n",
    "warnings.filterwarnings(\"ignore\", category=ConvergenceWarning)\n",
    "from sklearn.ensemble import RandomForestClassifier\n",
    "from sklearn.pipeline import make_pipeline\n",
    "from sklearn.pipeline import Pipeline\n",
    "from sklearn.model_selection import train_test_split\n",
    "from sklearn.model_selection import GridSearchCV\n",
    "from sklearn.model_selection import RandomizedSearchCV\n",
    "\n",
    "from sktime.transformations.panel.rocket import Rocket\n",
    "from sktime.datatypes import convert"
   ]
  },
  {
   "cell_type": "code",
   "execution_count": 82,
   "id": "fddb22e4",
   "metadata": {
    "ExecuteTime": {
     "end_time": "2023-11-20T17:05:23.992481Z",
     "start_time": "2023-11-20T17:05:23.938372Z"
    }
   },
   "outputs": [
    {
     "name": "stdout",
     "output_type": "stream",
     "text": [
      "(421, 181)\n"
     ]
    },
    {
     "data": {
      "text/html": [
       "<div>\n",
       "<style scoped>\n",
       "    .dataframe tbody tr th:only-of-type {\n",
       "        vertical-align: middle;\n",
       "    }\n",
       "\n",
       "    .dataframe tbody tr th {\n",
       "        vertical-align: top;\n",
       "    }\n",
       "\n",
       "    .dataframe thead th {\n",
       "        text-align: right;\n",
       "    }\n",
       "</style>\n",
       "<table border=\"1\" class=\"dataframe\">\n",
       "  <thead>\n",
       "    <tr style=\"text-align: right;\">\n",
       "      <th></th>\n",
       "      <th>0</th>\n",
       "      <th>1</th>\n",
       "      <th>2</th>\n",
       "      <th>3</th>\n",
       "      <th>4</th>\n",
       "      <th>5</th>\n",
       "      <th>6</th>\n",
       "      <th>7</th>\n",
       "      <th>8</th>\n",
       "      <th>9</th>\n",
       "      <th>...</th>\n",
       "      <th>171</th>\n",
       "      <th>172</th>\n",
       "      <th>173</th>\n",
       "      <th>174</th>\n",
       "      <th>175</th>\n",
       "      <th>176</th>\n",
       "      <th>177</th>\n",
       "      <th>178</th>\n",
       "      <th>179</th>\n",
       "      <th>180</th>\n",
       "    </tr>\n",
       "  </thead>\n",
       "  <tbody>\n",
       "    <tr>\n",
       "      <th>0</th>\n",
       "      <td>F</td>\n",
       "      <td>2.72</td>\n",
       "      <td>2.69</td>\n",
       "      <td>2.750</td>\n",
       "      <td>2.890</td>\n",
       "      <td>3.07</td>\n",
       "      <td>3.27</td>\n",
       "      <td>3.48</td>\n",
       "      <td>3.67</td>\n",
       "      <td>3.82</td>\n",
       "      <td>...</td>\n",
       "      <td>6.50</td>\n",
       "      <td>6.16</td>\n",
       "      <td>5.75</td>\n",
       "      <td>5.29</td>\n",
       "      <td>4.79</td>\n",
       "      <td>4.29</td>\n",
       "      <td>3.83</td>\n",
       "      <td>3.42</td>\n",
       "      <td>3.09</td>\n",
       "      <td>2.85</td>\n",
       "    </tr>\n",
       "    <tr>\n",
       "      <th>1</th>\n",
       "      <td>F</td>\n",
       "      <td>2.68</td>\n",
       "      <td>2.47</td>\n",
       "      <td>2.460</td>\n",
       "      <td>2.540</td>\n",
       "      <td>2.69</td>\n",
       "      <td>2.93</td>\n",
       "      <td>3.36</td>\n",
       "      <td>3.99</td>\n",
       "      <td>4.75</td>\n",
       "      <td>...</td>\n",
       "      <td>2.79</td>\n",
       "      <td>3.88</td>\n",
       "      <td>5.18</td>\n",
       "      <td>6.29</td>\n",
       "      <td>6.88</td>\n",
       "      <td>6.80</td>\n",
       "      <td>6.13</td>\n",
       "      <td>5.11</td>\n",
       "      <td>4.04</td>\n",
       "      <td>3.20</td>\n",
       "    </tr>\n",
       "    <tr>\n",
       "      <th>2</th>\n",
       "      <td>F</td>\n",
       "      <td>5.04</td>\n",
       "      <td>5.69</td>\n",
       "      <td>6.210</td>\n",
       "      <td>6.520</td>\n",
       "      <td>6.59</td>\n",
       "      <td>6.47</td>\n",
       "      <td>6.26</td>\n",
       "      <td>6.06</td>\n",
       "      <td>5.91</td>\n",
       "      <td>...</td>\n",
       "      <td>5.89</td>\n",
       "      <td>5.29</td>\n",
       "      <td>4.72</td>\n",
       "      <td>4.20</td>\n",
       "      <td>3.77</td>\n",
       "      <td>3.47</td>\n",
       "      <td>3.36</td>\n",
       "      <td>3.47</td>\n",
       "      <td>3.82</td>\n",
       "      <td>4.38</td>\n",
       "    </tr>\n",
       "    <tr>\n",
       "      <th>3</th>\n",
       "      <td>F</td>\n",
       "      <td>2.42</td>\n",
       "      <td>3.21</td>\n",
       "      <td>4.020</td>\n",
       "      <td>4.580</td>\n",
       "      <td>4.77</td>\n",
       "      <td>4.64</td>\n",
       "      <td>4.39</td>\n",
       "      <td>4.25</td>\n",
       "      <td>4.42</td>\n",
       "      <td>...</td>\n",
       "      <td>8.60</td>\n",
       "      <td>8.76</td>\n",
       "      <td>8.76</td>\n",
       "      <td>8.32</td>\n",
       "      <td>7.34</td>\n",
       "      <td>5.91</td>\n",
       "      <td>4.33</td>\n",
       "      <td>2.97</td>\n",
       "      <td>2.14</td>\n",
       "      <td>1.98</td>\n",
       "    </tr>\n",
       "    <tr>\n",
       "      <th>4</th>\n",
       "      <td>F</td>\n",
       "      <td>3.35</td>\n",
       "      <td>3.40</td>\n",
       "      <td>3.890</td>\n",
       "      <td>4.710</td>\n",
       "      <td>5.66</td>\n",
       "      <td>6.47</td>\n",
       "      <td>6.90</td>\n",
       "      <td>6.81</td>\n",
       "      <td>6.25</td>\n",
       "      <td>...</td>\n",
       "      <td>9.45</td>\n",
       "      <td>8.52</td>\n",
       "      <td>7.75</td>\n",
       "      <td>7.14</td>\n",
       "      <td>6.63</td>\n",
       "      <td>6.15</td>\n",
       "      <td>5.60</td>\n",
       "      <td>4.96</td>\n",
       "      <td>4.28</td>\n",
       "      <td>3.69</td>\n",
       "    </tr>\n",
       "    <tr>\n",
       "      <th>...</th>\n",
       "      <td>...</td>\n",
       "      <td>...</td>\n",
       "      <td>...</td>\n",
       "      <td>...</td>\n",
       "      <td>...</td>\n",
       "      <td>...</td>\n",
       "      <td>...</td>\n",
       "      <td>...</td>\n",
       "      <td>...</td>\n",
       "      <td>...</td>\n",
       "      <td>...</td>\n",
       "      <td>...</td>\n",
       "      <td>...</td>\n",
       "      <td>...</td>\n",
       "      <td>...</td>\n",
       "      <td>...</td>\n",
       "      <td>...</td>\n",
       "      <td>...</td>\n",
       "      <td>...</td>\n",
       "      <td>...</td>\n",
       "      <td>...</td>\n",
       "    </tr>\n",
       "    <tr>\n",
       "      <th>416</th>\n",
       "      <td>NF</td>\n",
       "      <td>2.37</td>\n",
       "      <td>3.17</td>\n",
       "      <td>3.810</td>\n",
       "      <td>4.180</td>\n",
       "      <td>4.32</td>\n",
       "      <td>4.42</td>\n",
       "      <td>4.68</td>\n",
       "      <td>5.27</td>\n",
       "      <td>6.17</td>\n",
       "      <td>...</td>\n",
       "      <td>6.41</td>\n",
       "      <td>6.24</td>\n",
       "      <td>5.91</td>\n",
       "      <td>5.26</td>\n",
       "      <td>4.27</td>\n",
       "      <td>3.11</td>\n",
       "      <td>2.07</td>\n",
       "      <td>1.39</td>\n",
       "      <td>1.26</td>\n",
       "      <td>1.64</td>\n",
       "    </tr>\n",
       "    <tr>\n",
       "      <th>417</th>\n",
       "      <td>NF</td>\n",
       "      <td>2.42</td>\n",
       "      <td>1.86</td>\n",
       "      <td>1.910</td>\n",
       "      <td>2.640</td>\n",
       "      <td>3.84</td>\n",
       "      <td>5.11</td>\n",
       "      <td>6.02</td>\n",
       "      <td>6.29</td>\n",
       "      <td>5.93</td>\n",
       "      <td>...</td>\n",
       "      <td>7.45</td>\n",
       "      <td>5.94</td>\n",
       "      <td>4.63</td>\n",
       "      <td>3.85</td>\n",
       "      <td>3.68</td>\n",
       "      <td>3.96</td>\n",
       "      <td>4.32</td>\n",
       "      <td>4.41</td>\n",
       "      <td>4.04</td>\n",
       "      <td>3.28</td>\n",
       "    </tr>\n",
       "    <tr>\n",
       "      <th>418</th>\n",
       "      <td>NF</td>\n",
       "      <td>2.17</td>\n",
       "      <td>1.45</td>\n",
       "      <td>1.850</td>\n",
       "      <td>3.430</td>\n",
       "      <td>5.69</td>\n",
       "      <td>7.76</td>\n",
       "      <td>8.86</td>\n",
       "      <td>8.69</td>\n",
       "      <td>7.60</td>\n",
       "      <td>...</td>\n",
       "      <td>8.58</td>\n",
       "      <td>8.57</td>\n",
       "      <td>7.83</td>\n",
       "      <td>6.84</td>\n",
       "      <td>6.08</td>\n",
       "      <td>5.75</td>\n",
       "      <td>5.69</td>\n",
       "      <td>5.46</td>\n",
       "      <td>4.73</td>\n",
       "      <td>3.49</td>\n",
       "    </tr>\n",
       "    <tr>\n",
       "      <th>419</th>\n",
       "      <td>NF</td>\n",
       "      <td>2.07</td>\n",
       "      <td>1.16</td>\n",
       "      <td>0.671</td>\n",
       "      <td>0.737</td>\n",
       "      <td>1.37</td>\n",
       "      <td>2.46</td>\n",
       "      <td>3.84</td>\n",
       "      <td>5.33</td>\n",
       "      <td>6.78</td>\n",
       "      <td>...</td>\n",
       "      <td>8.02</td>\n",
       "      <td>7.08</td>\n",
       "      <td>6.45</td>\n",
       "      <td>6.14</td>\n",
       "      <td>6.04</td>\n",
       "      <td>5.96</td>\n",
       "      <td>5.71</td>\n",
       "      <td>5.16</td>\n",
       "      <td>4.29</td>\n",
       "      <td>3.19</td>\n",
       "    </tr>\n",
       "    <tr>\n",
       "      <th>420</th>\n",
       "      <td>NF</td>\n",
       "      <td>2.37</td>\n",
       "      <td>2.01</td>\n",
       "      <td>2.120</td>\n",
       "      <td>2.590</td>\n",
       "      <td>3.24</td>\n",
       "      <td>3.92</td>\n",
       "      <td>4.59</td>\n",
       "      <td>5.31</td>\n",
       "      <td>6.18</td>\n",
       "      <td>...</td>\n",
       "      <td>8.36</td>\n",
       "      <td>7.42</td>\n",
       "      <td>6.35</td>\n",
       "      <td>5.52</td>\n",
       "      <td>5.10</td>\n",
       "      <td>4.99</td>\n",
       "      <td>4.90</td>\n",
       "      <td>4.57</td>\n",
       "      <td>3.92</td>\n",
       "      <td>3.09</td>\n",
       "    </tr>\n",
       "  </tbody>\n",
       "</table>\n",
       "<p>421 rows × 181 columns</p>\n",
       "</div>"
      ],
      "text/plain": [
       "    0     1     2      3      4     5     6     7     8     9    ...   171  \\\n",
       "0     F  2.72  2.69  2.750  2.890  3.07  3.27  3.48  3.67  3.82  ...  6.50   \n",
       "1     F  2.68  2.47  2.460  2.540  2.69  2.93  3.36  3.99  4.75  ...  2.79   \n",
       "2     F  5.04  5.69  6.210  6.520  6.59  6.47  6.26  6.06  5.91  ...  5.89   \n",
       "3     F  2.42  3.21  4.020  4.580  4.77  4.64  4.39  4.25  4.42  ...  8.60   \n",
       "4     F  3.35  3.40  3.890  4.710  5.66  6.47  6.90  6.81  6.25  ...  9.45   \n",
       "..   ..   ...   ...    ...    ...   ...   ...   ...   ...   ...  ...   ...   \n",
       "416  NF  2.37  3.17  3.810  4.180  4.32  4.42  4.68  5.27  6.17  ...  6.41   \n",
       "417  NF  2.42  1.86  1.910  2.640  3.84  5.11  6.02  6.29  5.93  ...  7.45   \n",
       "418  NF  2.17  1.45  1.850  3.430  5.69  7.76  8.86  8.69  7.60  ...  8.58   \n",
       "419  NF  2.07  1.16  0.671  0.737  1.37  2.46  3.84  5.33  6.78  ...  8.02   \n",
       "420  NF  2.37  2.01  2.120  2.590  3.24  3.92  4.59  5.31  6.18  ...  8.36   \n",
       "\n",
       "      172   173   174   175   176   177   178   179   180  \n",
       "0    6.16  5.75  5.29  4.79  4.29  3.83  3.42  3.09  2.85  \n",
       "1    3.88  5.18  6.29  6.88  6.80  6.13  5.11  4.04  3.20  \n",
       "2    5.29  4.72  4.20  3.77  3.47  3.36  3.47  3.82  4.38  \n",
       "3    8.76  8.76  8.32  7.34  5.91  4.33  2.97  2.14  1.98  \n",
       "4    8.52  7.75  7.14  6.63  6.15  5.60  4.96  4.28  3.69  \n",
       "..    ...   ...   ...   ...   ...   ...   ...   ...   ...  \n",
       "416  6.24  5.91  5.26  4.27  3.11  2.07  1.39  1.26  1.64  \n",
       "417  5.94  4.63  3.85  3.68  3.96  4.32  4.41  4.04  3.28  \n",
       "418  8.57  7.83  6.84  6.08  5.75  5.69  5.46  4.73  3.49  \n",
       "419  7.08  6.45  6.14  6.04  5.96  5.71  5.16  4.29  3.19  \n",
       "420  7.42  6.35  5.52  5.10  4.99  4.90  4.57  3.92  3.09  \n",
       "\n",
       "[421 rows x 181 columns]"
      ]
     },
     "execution_count": 82,
     "metadata": {},
     "output_type": "execute_result"
    }
   ],
   "source": [
    "fatigue_df = pd.read_csv('fatigueA.csv', header = None) # sep = '\\s+')\n",
    "print(fatigue_df.shape)\n",
    "fatigue_df"
   ]
  },
  {
   "cell_type": "code",
   "execution_count": 3,
   "id": "fb6e1c53",
   "metadata": {
    "ExecuteTime": {
     "end_time": "2023-11-20T17:05:24.595516Z",
     "start_time": "2023-11-20T17:05:24.585695Z"
    }
   },
   "outputs": [
    {
     "name": "stdout",
     "output_type": "stream",
     "text": [
      "0\n"
     ]
    }
   ],
   "source": [
    "#Check null/na values to see what kind of data preproocessing is required.\n",
    "print(fatigue_df.isnull().sum().sum())\n"
   ]
  },
  {
   "cell_type": "code",
   "execution_count": 4,
   "id": "936131c5",
   "metadata": {
    "ExecuteTime": {
     "end_time": "2023-11-20T17:05:25.480128Z",
     "start_time": "2023-11-20T17:05:25.344297Z"
    },
    "scrolled": true
   },
   "outputs": [
    {
     "data": {
      "text/plain": [
       "Text(0, 0.5, 'Accel Mag')"
      ]
     },
     "execution_count": 4,
     "metadata": {},
     "output_type": "execute_result"
    },
    {
     "data": {
      "image/png": "[encoded data removed]",
      "text/plain": [
       "<Figure size 400x300 with 1 Axes>"
      ]
     },
     "metadata": {},
     "output_type": "display_data"
    }
   ],
   "source": [
    "fatigue_df.iloc[4][1:].plot(label='Fatigued A')\n",
    "fatigue_df.iloc[-5][1:].plot(figsize=(4,3), label = 'Not Fatigued A')\n",
    "plt.legend(loc='upper center', bbox_to_anchor=(0.5, 1.15),ncol=2)\n",
    "plt.ylabel('Accel Mag')\n"
   ]
  },
  {
   "cell_type": "code",
   "execution_count": 5,
   "id": "7f2141ff",
   "metadata": {
    "ExecuteTime": {
     "end_time": "2023-11-20T17:05:25.918617Z",
     "start_time": "2023-11-20T17:05:25.909873Z"
    }
   },
   "outputs": [],
   "source": [
    "y = fatigue_df.pop(0).values\n",
    "X = fatigue_df.values"
   ]
  },
  {
   "cell_type": "code",
   "execution_count": 6,
   "id": "18d0d8b0",
   "metadata": {
    "ExecuteTime": {
     "end_time": "2023-11-20T17:05:26.532846Z",
     "start_time": "2023-11-20T17:05:26.522732Z"
    },
    "scrolled": true
   },
   "outputs": [
    {
     "data": {
      "text/plain": [
       "((421, 180), (421,))"
      ]
     },
     "execution_count": 6,
     "metadata": {},
     "output_type": "execute_result"
    }
   ],
   "source": [
    "X.shape, y.shape"
   ]
  },
  {
   "cell_type": "markdown",
   "id": "559bdcd9",
   "metadata": {},
   "source": [
    "### Task 1\n",
    "Calculate the baseline accuracy of a logistic regression (SGDClassifier) on the raw time series data for subject A. "
   ]
  },
  {
   "cell_type": "markdown",
   "id": "fb40e4f1",
   "metadata": {},
   "source": [
    "#### Initilaise classifier,  fit model using cross validation\n",
    "\n"
   ]
  },
  {
   "cell_type": "code",
   "execution_count": 7,
   "id": "ff70f16f",
   "metadata": {
    "ExecuteTime": {
     "end_time": "2023-11-20T20:30:58.910805Z",
     "start_time": "2023-11-20T20:30:58.903830Z"
    }
   },
   "outputs": [],
   "source": [
    "sgd_classifier = SGDClassifier(loss='log_loss', random_state=100)"
   ]
  },
  {
   "cell_type": "code",
   "execution_count": 8,
   "id": "d9564db4",
   "metadata": {
    "ExecuteTime": {
     "end_time": "2023-11-20T20:30:59.723086Z",
     "start_time": "2023-11-20T20:30:59.715984Z"
    }
   },
   "outputs": [
    {
     "name": "stdout",
     "output_type": "stream",
     "text": [
      "{'alpha': 0.0001, 'average': False, 'class_weight': None, 'early_stopping': False, 'epsilon': 0.1, 'eta0': 0.0, 'fit_intercept': True, 'l1_ratio': 0.15, 'learning_rate': 'optimal', 'loss': 'log_loss', 'max_iter': 1000, 'n_iter_no_change': 5, 'n_jobs': None, 'penalty': 'l2', 'power_t': 0.5, 'random_state': 100, 'shuffle': True, 'tol': 0.001, 'validation_fraction': 0.1, 'verbose': 0, 'warm_start': False}\n"
     ]
    }
   ],
   "source": [
    "print(sgd_classifier.get_params())"
   ]
  },
  {
   "cell_type": "markdown",
   "id": "bd4c36a6",
   "metadata": {},
   "source": [
    "#### Baseline accuracy\n"
   ]
  },
  {
   "cell_type": "code",
   "execution_count": 9,
   "id": "4b392ba4",
   "metadata": {
    "ExecuteTime": {
     "end_time": "2023-11-20T20:31:05.604821Z",
     "start_time": "2023-11-20T20:31:04.148994Z"
    }
   },
   "outputs": [
    {
     "name": "stdout",
     "output_type": "stream",
     "text": [
      "8x CV Accuracy SDGClassifiers: 0.78\n"
     ]
    },
    {
     "data": {
      "text/plain": [
       "array([0.77358491, 0.79245283, 0.88679245, 0.77358491, 0.60377358,\n",
       "       0.67307692, 0.94230769, 0.78846154])"
      ]
     },
     "execution_count": 9,
     "metadata": {},
     "output_type": "execute_result"
    }
   ],
   "source": [
    "sgd_baseline_accuracy = cross_val_score(sgd_classifier, X, y, cv=8, verbose = 0,  n_jobs = -1)\n",
    "print(\"8x CV Accuracy SDGClassifiers: {0:.2f}\".format(sgd_baseline_accuracy.mean())) \n",
    "sgd_baseline_accuracy"
   ]
  },
  {
   "cell_type": "markdown",
   "id": "e89ceb39-70dd-4665-bce5-d622fb097bbe",
   "metadata": {},
   "source": [
    "#### Observation on baseline SGDClassifier \n",
    "\n",
    "1. We that our model with no hyper tuning of any parameters produces an accuracy rate of 0.78 for subject dataset A. \n",
    "2. Due to the nature of the dataset being quite small, I decided that a cross-valuation would be better to evaluate the accuracy of the dataset.\n",
    "3. In small datasets, every data point is valuable. Cross-validation allows for the use of all available data for both training and validation, rather than having to split the data into separate training and test sets which might leave too few samples for effective training or validation. "
   ]
  },
  {
   "cell_type": "markdown",
   "id": "53115f94",
   "metadata": {},
   "source": [
    "### Task 2\n",
    "The RunningCore Notebook contains code to convert the data to the sktime time-series format. Using this format assess the accuracy of the Rocket transformer coupled with an SGDClassifier classifier on the data for subject A. "
   ]
  },
  {
   "cell_type": "markdown",
   "id": "c7a7cd34",
   "metadata": {},
   "source": [
    "#### Create 3D shape of our data"
   ]
  },
  {
   "cell_type": "code",
   "execution_count": 10,
   "id": "ff530507",
   "metadata": {
    "ExecuteTime": {
     "end_time": "2023-11-19T08:15:26.955315Z",
     "start_time": "2023-11-19T08:15:26.945690Z"
    }
   },
   "outputs": [
    {
     "data": {
      "text/plain": [
       "(421, 1, 180)"
      ]
     },
     "execution_count": 10,
     "metadata": {},
     "output_type": "execute_result"
    }
   ],
   "source": [
    "X3d = X[:,np.newaxis,:] # time series algs require a 3D data array (sample, var, tick)\n",
    "X3d.shape"
   ]
  },
  {
   "cell_type": "code",
   "execution_count": 11,
   "id": "af39f3b0",
   "metadata": {
    "ExecuteTime": {
     "end_time": "2023-11-19T08:15:28.707449Z",
     "start_time": "2023-11-19T08:15:28.696719Z"
    }
   },
   "outputs": [
    {
     "data": {
      "text/plain": [
       "array([[[2.72 , 2.69 , 2.75 , ..., 3.42 , 3.09 , 2.85 ]],\n",
       "\n",
       "       [[2.68 , 2.47 , 2.46 , ..., 5.11 , 4.04 , 3.2  ]],\n",
       "\n",
       "       [[5.04 , 5.69 , 6.21 , ..., 3.47 , 3.82 , 4.38 ]],\n",
       "\n",
       "       ...,\n",
       "\n",
       "       [[2.17 , 1.45 , 1.85 , ..., 5.46 , 4.73 , 3.49 ]],\n",
       "\n",
       "       [[2.07 , 1.16 , 0.671, ..., 5.16 , 4.29 , 3.19 ]],\n",
       "\n",
       "       [[2.37 , 2.01 , 2.12 , ..., 4.57 , 3.92 , 3.09 ]]])"
      ]
     },
     "execution_count": 11,
     "metadata": {},
     "output_type": "execute_result"
    }
   ],
   "source": [
    "# sktime-series format \n",
    "X3d"
   ]
  },
  {
   "cell_type": "markdown",
   "id": "4fa40be0",
   "metadata": {},
   "source": [
    "#### Implementing Rocket Model Specification and fit SGDClassifier "
   ]
  },
  {
   "cell_type": "code",
   "execution_count": 12,
   "id": "5942c421",
   "metadata": {
    "ExecuteTime": {
     "end_time": "2023-11-19T08:15:34.409607Z",
     "start_time": "2023-11-19T08:15:34.401630Z"
    }
   },
   "outputs": [],
   "source": [
    "baseline_rocket_pipeline = make_pipeline(\n",
    "    Rocket(), sgd_classifier)\n"
   ]
  },
  {
   "cell_type": "markdown",
   "id": "8278863b",
   "metadata": {},
   "source": [
    "#### Baseline Accuracy\n"
   ]
  },
  {
   "cell_type": "code",
   "execution_count": 13,
   "id": "e4b4f4e3",
   "metadata": {
    "ExecuteTime": {
     "end_time": "2023-11-19T08:15:51.035987Z",
     "start_time": "2023-11-19T08:15:40.438659Z"
    },
    "scrolled": true
   },
   "outputs": [
    {
     "name": "stdout",
     "output_type": "stream",
     "text": [
      "8x CV Accuracy Rocket with SDGClassifer: 0.83\n"
     ]
    },
    {
     "data": {
      "text/plain": [
       "array([0.71698113, 0.47169811, 0.96226415, 0.96226415, 0.90566038,\n",
       "       0.92307692, 0.98076923, 0.75      ])"
      ]
     },
     "execution_count": 13,
     "metadata": {},
     "output_type": "execute_result"
    }
   ],
   "source": [
    "baseline_accuracy_rocket = cross_val_score(baseline_rocket_pipeline, X3d, y, cv=8, verbose = 0,  n_jobs = -1 )\n",
    "print(\"8x CV Accuracy Rocket with SDGClassifer: {0:.2f}\".format(baseline_accuracy_rocket.mean())) \n",
    "baseline_accuracy_rocket"
   ]
  },
  {
   "cell_type": "markdown",
   "id": "d9a39930-4eab-424f-b15c-e3f1f00b60f2",
   "metadata": {},
   "source": [
    "#### Observation on Rocket Model with SGDClassifier \n",
    "1. Our model with no hyper-tuning of any parameters produces an accuracy rate of 0.83 with rocket transformer and SGDClassifier for subject dataset A. \n",
    "2. Rocket (Random Convolutional Kernel Transform) enables us to obtain state-of-the-art classification accuracy that can be achieved using a fraction of the time required by other methods. ROCKET achieves this by transforming time series using random convolutional kernels, and using the transformed features to train a linear classifier. The default kernel size for ROCKET Transformer is 10000."
   ]
  },
  {
   "cell_type": "markdown",
   "id": "f262a91d",
   "metadata": {},
   "source": [
    "### Task 3\n",
    "\n",
    "Evaluate alternatives to see if you can improve the accuracy on the raw data (Task 1). For this, you should consider alternative classifiers and data normalisation. The data should not be transformed beyond normalisation. \n"
   ]
  },
  {
   "cell_type": "markdown",
   "id": "7b438fc9",
   "metadata": {},
   "source": [
    "#### Optimising SGDClassifier using pipeline and gridsearch"
   ]
  },
  {
   "cell_type": "code",
   "execution_count": 14,
   "id": "f0f00c94",
   "metadata": {
    "ExecuteTime": {
     "end_time": "2023-11-19T08:17:04.820842Z",
     "start_time": "2023-11-19T08:17:04.801011Z"
    }
   },
   "outputs": [
    {
     "data": {
      "text/plain": [
       "((294, 180), (127, 180))"
      ]
     },
     "execution_count": 14,
     "metadata": {},
     "output_type": "execute_result"
    }
   ],
   "source": [
    "X_train, X_test, y_train, y_test = train_test_split(X, y, test_size=0.3, random_state=100)\n",
    "X_train.shape, X_test.shape"
   ]
  },
  {
   "cell_type": "code",
   "execution_count": 15,
   "id": "95a82ae7",
   "metadata": {
    "ExecuteTime": {
     "end_time": "2023-11-19T08:17:09.316518Z",
     "start_time": "2023-11-19T08:17:09.307417Z"
    }
   },
   "outputs": [],
   "source": [
    "# making my pipeline\n",
    "SGDpipe  = Pipeline(steps=[\n",
    "    ('scaler', StandardScaler()),\n",
    "    ('classifier', SGDClassifier())])"
   ]
  },
  {
   "cell_type": "code",
   "execution_count": 16,
   "id": "15540a18",
   "metadata": {
    "ExecuteTime": {
     "end_time": "2023-11-19T08:17:10.690646Z",
     "start_time": "2023-11-19T08:17:10.678822Z"
    },
    "scrolled": true
   },
   "outputs": [],
   "source": [
    "param_grid = {'scaler':[StandardScaler(), MinMaxScaler(),'passthrough'],\n",
    "                'classifier__loss': [\"hinge\", \"log_loss\", \"modified_huber\", \"squared_hinge\", \"perceptron\", \n",
    "             \"squared_error\", \"huber\", \"epsilon_insensitive\", \"squared_epsilon_insensitive\"]}"
   ]
  },
  {
   "cell_type": "code",
   "execution_count": 17,
   "id": "45d8600b",
   "metadata": {
    "ExecuteTime": {
     "end_time": "2023-11-19T08:17:18.909354Z",
     "start_time": "2023-11-19T08:17:18.903817Z"
    }
   },
   "outputs": [
    {
     "name": "stdout",
     "output_type": "stream",
     "text": [
      "Fitting 8 folds for each of 27 candidates, totalling 216 fits\n"
     ]
    }
   ],
   "source": [
    "pipe_gs = GridSearchCV(SGDpipe,param_grid,cv=8, \n",
    "                      verbose = 1, n_jobs = -1)\n",
    "\n",
    "pipe_gs = pipe_gs.fit(X_train, y_train)"
   ]
  },
  {
   "cell_type": "code",
   "execution_count": 18,
   "id": "4a16ef2f-b085-446a-982d-095b351513c7",
   "metadata": {},
   "outputs": [
    {
     "data": {
      "text/plain": [
       "{'classifier__loss': 'modified_huber', 'scaler': StandardScaler()}"
      ]
     },
     "execution_count": 18,
     "metadata": {},
     "output_type": "execute_result"
    }
   ],
   "source": [
    "pipe_gs.best_params_"
   ]
  },
  {
   "cell_type": "code",
   "execution_count": 19,
   "id": "94e72ab4",
   "metadata": {
    "ExecuteTime": {
     "end_time": "2023-11-19T08:18:41.585602Z",
     "start_time": "2023-11-19T08:18:41.581074Z"
    }
   },
   "outputs": [],
   "source": [
    "best_params = pipe_gs.best_params_"
   ]
  },
  {
   "cell_type": "code",
   "execution_count": 20,
   "id": "e796daf7",
   "metadata": {
    "ExecuteTime": {
     "end_time": "2023-11-19T08:18:46.465826Z",
     "start_time": "2023-11-19T08:18:46.458572Z"
    }
   },
   "outputs": [],
   "source": [
    "SGDpipe_tuned = Pipeline(steps=[\n",
    "    ('scaler', best_params['scaler']),\n",
    "    ('classifier', SGDClassifier(\n",
    "        loss= best_params['classifier__loss'], \n",
    "    ))\n",
    "])\n"
   ]
  },
  {
   "cell_type": "code",
   "execution_count": 21,
   "id": "79d468d2",
   "metadata": {
    "ExecuteTime": {
     "end_time": "2023-11-19T08:18:53.182473Z",
     "start_time": "2023-11-19T08:18:53.059047Z"
    }
   },
   "outputs": [
    {
     "name": "stdout",
     "output_type": "stream",
     "text": [
      "8x CV Accuracy Tuned SDGClassifiers: 0.83\n"
     ]
    },
    {
     "data": {
      "text/plain": [
       "array([0.83018868, 0.69811321, 0.90566038, 0.75471698, 0.77358491,\n",
       "       0.86538462, 0.98076923, 0.80769231])"
      ]
     },
     "execution_count": 21,
     "metadata": {},
     "output_type": "execute_result"
    }
   ],
   "source": [
    "sgd_scores = cross_val_score(SGDpipe_tuned, X, y, cv=8, verbose = 0,  n_jobs = -1)\n",
    "print(\"8x CV Accuracy Tuned SDGClassifiers: {0:.2f}\".format(sgd_scores.mean())) \n",
    "sgd_scores"
   ]
  },
  {
   "cell_type": "markdown",
   "id": "b8324305",
   "metadata": {},
   "source": [
    "#### Observations on accuracy after hyper-tuning on SGDClassifier \n",
    "\n",
    "1. We are able to witness significant improvements for our SGDClassifier after hypertuning from 0.78 to 0.83.\n",
    "2. I used grid search and pipelines to streamline my hyper-tuning process. Through grid search, I deciphered the best data normalization method and classifier loss parameter. our model works well with data normalization. With these hyper-tuning techniques, I was able to achieve the goal of improving the accuracy of the model."
   ]
  },
  {
   "cell_type": "markdown",
   "id": "fb588be1",
   "metadata": {},
   "source": [
    "#### Model Selection \n"
   ]
  },
  {
   "cell_type": "code",
   "execution_count": 22,
   "id": "0e5d159b",
   "metadata": {
    "ExecuteTime": {
     "end_time": "2023-11-19T08:21:26.798932Z",
     "start_time": "2023-11-19T08:21:26.786738Z"
    }
   },
   "outputs": [],
   "source": [
    "kNN = KNeighborsClassifier()  \n",
    "dtree = DecisionTreeClassifier()\n",
    "gnb = GaussianNB()\n",
    "svc = SVC()\n",
    "rf = RandomForestClassifier()\n",
    "\n",
    "\n",
    "\n",
    "models = [gnb,kNN,dtree,svc, rf]"
   ]
  },
  {
   "cell_type": "markdown",
   "id": "4652c4d7-23fa-478e-a044-b3392850a0ed",
   "metadata": {},
   "source": [
    "#### Baseline Accuracy\n"
   ]
  },
  {
   "cell_type": "code",
   "execution_count": 23,
   "id": "4fa48ab5",
   "metadata": {
    "ExecuteTime": {
     "end_time": "2023-11-19T08:21:30.772932Z",
     "start_time": "2023-11-19T08:21:30.521681Z"
    },
    "scrolled": true
   },
   "outputs": [
    {
     "name": "stdout",
     "output_type": "stream",
     "text": [
      "GaussianNB()\n",
      "8x CV Accuracy: 0.70\n",
      "KNeighborsClassifier()\n",
      "8x CV Accuracy: 0.87\n",
      "DecisionTreeClassifier()\n",
      "8x CV Accuracy: 0.77\n",
      "SVC()\n",
      "8x CV Accuracy: 0.83\n",
      "RandomForestClassifier()\n",
      "8x CV Accuracy: 0.88\n"
     ]
    }
   ],
   "source": [
    "for m in models:\n",
    "    print(m)\n",
    "    cross_val_scores = cross_val_score(m, X, y, cv=8, verbose = 0,  n_jobs = -1)\n",
    "    print(\"8x CV Accuracy: {0:.2f}\".format(cross_val_scores.mean())) \n",
    "    cross_val_scores\n"
   ]
  },
  {
   "cell_type": "markdown",
   "id": "33a0a23b-efe3-4a8e-88b6-8f4393d80bff",
   "metadata": {},
   "source": [
    "#### Observation on Different models and baseline accuracy\n",
    "\n",
    "After testing various models we can see that SVC(), kNN(), and rf() did the best in terms of accuracy. I will continue my search by using these classifiers for my prediction. \n",
    "\n"
   ]
  },
  {
   "cell_type": "markdown",
   "id": "957d10d6",
   "metadata": {},
   "source": [
    "##### Optimising KNN"
   ]
  },
  {
   "cell_type": "code",
   "execution_count": 24,
   "id": "2eb9b9d4",
   "metadata": {
    "ExecuteTime": {
     "end_time": "2023-11-19T08:22:08.511812Z",
     "start_time": "2023-11-19T08:22:08.506732Z"
    }
   },
   "outputs": [],
   "source": [
    "kNNpipe  = Pipeline(steps=[\n",
    "    ('scaler', StandardScaler()),\n",
    "    ('classifier', KNeighborsClassifier())])"
   ]
  },
  {
   "cell_type": "code",
   "execution_count": 25,
   "id": "be2020db",
   "metadata": {
    "ExecuteTime": {
     "end_time": "2023-11-19T08:22:21.728979Z",
     "start_time": "2023-11-19T08:22:21.724073Z"
    }
   },
   "outputs": [],
   "source": [
    "param_grid_knn = {'scaler':[StandardScaler(), MinMaxScaler(),'passthrough'],\n",
    "              'classifier__n_neighbors':[1,3,5,10, 15, 20], \n",
    "}"
   ]
  },
  {
   "cell_type": "code",
   "execution_count": 26,
   "id": "df89d27c",
   "metadata": {
    "ExecuteTime": {
     "end_time": "2023-11-19T08:22:26.273462Z",
     "start_time": "2023-11-19T08:22:26.266621Z"
    }
   },
   "outputs": [],
   "source": [
    "pipe_knn_gs = GridSearchCV(kNNpipe,param_grid_knn,cv=8, \n",
    "                      verbose = 1, n_jobs = -1)"
   ]
  },
  {
   "cell_type": "code",
   "execution_count": 27,
   "id": "75aebcce",
   "metadata": {
    "ExecuteTime": {
     "end_time": "2023-11-19T08:22:29.420478Z",
     "start_time": "2023-11-19T08:22:28.928382Z"
    },
    "scrolled": true
   },
   "outputs": [
    {
     "name": "stdout",
     "output_type": "stream",
     "text": [
      "Fitting 8 folds for each of 18 candidates, totalling 144 fits\n"
     ]
    }
   ],
   "source": [
    "pipe_knn_gs = pipe_knn_gs.fit(X_train, y_train)"
   ]
  },
  {
   "cell_type": "code",
   "execution_count": 28,
   "id": "7ebe0a13",
   "metadata": {
    "ExecuteTime": {
     "end_time": "2023-11-19T08:22:31.856741Z",
     "start_time": "2023-11-19T08:22:31.847601Z"
    }
   },
   "outputs": [
    {
     "data": {
      "text/plain": [
       "{'classifier__n_neighbors': 1, 'scaler': MinMaxScaler()}"
      ]
     },
     "execution_count": 28,
     "metadata": {},
     "output_type": "execute_result"
    }
   ],
   "source": [
    "pipe_knn_gs.best_params_"
   ]
  },
  {
   "cell_type": "code",
   "execution_count": 29,
   "id": "2388dc4e",
   "metadata": {
    "ExecuteTime": {
     "end_time": "2023-11-19T08:22:34.274731Z",
     "start_time": "2023-11-19T08:22:34.270783Z"
    }
   },
   "outputs": [],
   "source": [
    "best_parameters_knn = pipe_knn_gs.best_params_"
   ]
  },
  {
   "cell_type": "code",
   "execution_count": 30,
   "id": "ba6428a4",
   "metadata": {
    "ExecuteTime": {
     "end_time": "2023-11-19T08:22:35.250674Z",
     "start_time": "2023-11-19T08:22:35.245106Z"
    }
   },
   "outputs": [],
   "source": [
    "# Create a pipeline with the best parameters\n",
    "knn_pipeline_tuned = Pipeline(steps=[\n",
    "    ('scaler', best_parameters_knn['scaler']),  # Use the best scaler\n",
    "    ('classifier', KNeighborsClassifier(\n",
    "        n_neighbors=best_parameters_knn['classifier__n_neighbors'],\n",
    "    ))  # Use the best classifier parameters directly\n",
    "])"
   ]
  },
  {
   "cell_type": "code",
   "execution_count": 31,
   "id": "975d4428",
   "metadata": {
    "ExecuteTime": {
     "end_time": "2023-11-19T08:22:41.728689Z",
     "start_time": "2023-11-19T08:22:41.672172Z"
    }
   },
   "outputs": [
    {
     "name": "stdout",
     "output_type": "stream",
     "text": [
      "8x CV Accuracy tuned KNNClassifer: 0.85\n"
     ]
    },
    {
     "data": {
      "text/plain": [
       "array([0.75471698, 0.69811321, 0.86792453, 0.79245283, 0.83018868,\n",
       "       0.94230769, 0.96153846, 0.94230769])"
      ]
     },
     "execution_count": 31,
     "metadata": {},
     "output_type": "execute_result"
    }
   ],
   "source": [
    "knn_scores = cross_val_score(knn_pipeline_tuned, X, y, cv=8, verbose = 0,  n_jobs = -1)\n",
    "print(\"8x CV Accuracy tuned KNNClassifer: {0:.2f}\".format(knn_scores.mean())) \n",
    "knn_scores"
   ]
  },
  {
   "cell_type": "markdown",
   "id": "2fd1b12a-98dc-4960-abac-b9174056443d",
   "metadata": {},
   "source": [
    "##### Optimising SVC"
   ]
  },
  {
   "cell_type": "code",
   "execution_count": 32,
   "id": "3d1b1610-a0c0-44d3-98de-7d54b7d28b2f",
   "metadata": {},
   "outputs": [],
   "source": [
    "svcpipe = Pipeline(steps=[\n",
    "    ('scaler', StandardScaler()),\n",
    "    ('classifier', SVC())])"
   ]
  },
  {
   "cell_type": "code",
   "execution_count": 33,
   "id": "c437b3da-9e29-423d-825d-9eecd531b639",
   "metadata": {},
   "outputs": [],
   "source": [
    "param_grid_svc =  {'scaler':[StandardScaler(), MinMaxScaler(),'passthrough'],\n",
    "         'classifier__C': [1, 10, 100], \n",
    "        'classifier__kernel': ['linear', 'rbf'],\n",
    "    }\n"
   ]
  },
  {
   "cell_type": "code",
   "execution_count": 34,
   "id": "9a752850-f469-4eb2-943c-34a9b5fe9712",
   "metadata": {},
   "outputs": [],
   "source": [
    "pipe_svc_gs = GridSearchCV(svcpipe, param_grid_svc,cv=8, \n",
    "                      verbose = 1, n_jobs = -1)"
   ]
  },
  {
   "cell_type": "code",
   "execution_count": 35,
   "id": "a85930c7-838c-4799-a406-358114b7f337",
   "metadata": {},
   "outputs": [
    {
     "name": "stdout",
     "output_type": "stream",
     "text": [
      "Fitting 8 folds for each of 18 candidates, totalling 144 fits\n"
     ]
    }
   ],
   "source": [
    "pipe_svc_gs = pipe_svc_gs.fit(X_train, y_train)"
   ]
  },
  {
   "cell_type": "code",
   "execution_count": 36,
   "id": "a5a4d9bb-dcca-4c17-93f6-642726b753bd",
   "metadata": {},
   "outputs": [
    {
     "data": {
      "text/plain": [
       "{'classifier__C': 100, 'classifier__kernel': 'rbf', 'scaler': MinMaxScaler()}"
      ]
     },
     "execution_count": 36,
     "metadata": {},
     "output_type": "execute_result"
    }
   ],
   "source": [
    "pipe_svc_gs.best_params_"
   ]
  },
  {
   "cell_type": "code",
   "execution_count": 37,
   "id": "5bf54dd1-fd5c-4ceb-89ce-b8a07d7224af",
   "metadata": {},
   "outputs": [],
   "source": [
    "best_parameters_svc = pipe_svc_gs.best_params_"
   ]
  },
  {
   "cell_type": "code",
   "execution_count": 38,
   "id": "d9e264de-c550-4e03-aff5-6a92cd10cbcb",
   "metadata": {},
   "outputs": [],
   "source": [
    "# Create a pipeline with the best parameters\n",
    "svc_pipeline_tuned = Pipeline(steps=[\n",
    "    ('scaler', best_parameters_svc['scaler']),  # Use the best scaler\n",
    "    ('classifier', SVC(\n",
    "        C =best_parameters_svc['classifier__C'],\n",
    "        kernel = best_parameters_svc['classifier__kernel']\n",
    "    ))  \n",
    "])"
   ]
  },
  {
   "cell_type": "code",
   "execution_count": 39,
   "id": "cc929e1d-c6a3-4b1e-87c5-aeb9db242319",
   "metadata": {},
   "outputs": [
    {
     "name": "stdout",
     "output_type": "stream",
     "text": [
      "8x CV Accuracy tuned SVC Classifer: 0.93\n"
     ]
    },
    {
     "data": {
      "text/plain": [
       "array([0.94339623, 0.81132075, 0.96226415, 0.9245283 , 0.88679245,\n",
       "       0.98076923, 0.98076923, 0.96153846])"
      ]
     },
     "execution_count": 39,
     "metadata": {},
     "output_type": "execute_result"
    }
   ],
   "source": [
    "svc_scores = cross_val_score(svc_pipeline_tuned, X, y, cv=8, verbose = 0,  n_jobs = -1)\n",
    "print(\"8x CV Accuracy tuned SVC Classifer: {0:.2f}\".format(svc_scores.mean())) \n",
    "svc_scores"
   ]
  },
  {
   "cell_type": "markdown",
   "id": "a6cd092e-0114-462c-a957-2e18185a37cb",
   "metadata": {},
   "source": [
    "##### Optimising Random Forest"
   ]
  },
  {
   "cell_type": "code",
   "execution_count": 40,
   "id": "0387a547-856e-4d46-9538-df53560be142",
   "metadata": {},
   "outputs": [],
   "source": [
    "rfpipe = Pipeline(steps=[\n",
    "    ('scaler', StandardScaler()),\n",
    "    ('classifier', RandomForestClassifier())])"
   ]
  },
  {
   "cell_type": "code",
   "execution_count": 41,
   "id": "4058c77e-2310-4cb2-89a3-511515708e68",
   "metadata": {},
   "outputs": [],
   "source": [
    "param_grid_rf =  {'scaler':[StandardScaler(), MinMaxScaler(),'passthrough'],\n",
    "                    'classifier__n_estimators': [10, 100, 1000],\n",
    "                      'classifier__max_depth': [5, 10, 15], \n",
    "    }"
   ]
  },
  {
   "cell_type": "code",
   "execution_count": 42,
   "id": "43fad045-7dc8-41d8-8114-509e4322fac5",
   "metadata": {},
   "outputs": [],
   "source": [
    "pipe_rf_gs = GridSearchCV(rfpipe, param_grid_rf,cv=8, \n",
    "                      verbose = 1, n_jobs = -1)"
   ]
  },
  {
   "cell_type": "code",
   "execution_count": 43,
   "id": "bf2da33c-d13b-4f36-b065-94fb5bd50ca2",
   "metadata": {},
   "outputs": [
    {
     "name": "stdout",
     "output_type": "stream",
     "text": [
      "Fitting 8 folds for each of 27 candidates, totalling 216 fits\n"
     ]
    }
   ],
   "source": [
    "pipe_rf_gs = pipe_rf_gs.fit(X_train, y_train)"
   ]
  },
  {
   "cell_type": "code",
   "execution_count": 44,
   "id": "499026cb-67df-41fb-b78a-c895f1d4336e",
   "metadata": {},
   "outputs": [
    {
     "data": {
      "text/plain": [
       "{'classifier__max_depth': 10,\n",
       " 'classifier__n_estimators': 1000,\n",
       " 'scaler': MinMaxScaler()}"
      ]
     },
     "execution_count": 44,
     "metadata": {},
     "output_type": "execute_result"
    }
   ],
   "source": [
    "pipe_rf_gs.best_params_"
   ]
  },
  {
   "cell_type": "code",
   "execution_count": 45,
   "id": "b9fe254e-09f4-4cc4-9375-46897daa77da",
   "metadata": {},
   "outputs": [],
   "source": [
    "best_parameters_rf = pipe_rf_gs.best_params_"
   ]
  },
  {
   "cell_type": "code",
   "execution_count": 46,
   "id": "d501f7b5-342a-4fd8-9acb-16c170567cd8",
   "metadata": {},
   "outputs": [],
   "source": [
    "# Create a pipeline with the best parameters\n",
    "rf_pipeline_tuned = Pipeline(steps=[\n",
    "    ('scaler', best_parameters_rf['scaler']),  # Use the best scaler\n",
    "    ('classifier', RandomForestClassifier(\n",
    "        n_estimators =best_parameters_rf['classifier__n_estimators'],\n",
    "        max_depth = best_parameters_rf['classifier__max_depth']\n",
    "    ))  \n",
    "])"
   ]
  },
  {
   "cell_type": "code",
   "execution_count": 47,
   "id": "f77425e7-f6d9-46c7-a41b-caeddb145f9e",
   "metadata": {},
   "outputs": [
    {
     "name": "stdout",
     "output_type": "stream",
     "text": [
      "8x CV Accuracy tuned Random Forest Classifer: 0.89\n"
     ]
    },
    {
     "data": {
      "text/plain": [
       "array([0.94339623, 0.69811321, 0.94339623, 0.81132075, 0.83018868,\n",
       "       0.98076923, 1.        , 0.90384615])"
      ]
     },
     "execution_count": 47,
     "metadata": {},
     "output_type": "execute_result"
    }
   ],
   "source": [
    "rf_scores = cross_val_score(rf_pipeline_tuned, X, y, cv=8, verbose = 0,  n_jobs = -1)\n",
    "print(\"8x CV Accuracy tuned Random Forest Classifer: {0:.2f}\".format(rf_scores.mean())) \n",
    "rf_scores"
   ]
  },
  {
   "cell_type": "markdown",
   "id": "d1113d13-9a80-47fb-a6a0-8a62186865a9",
   "metadata": {},
   "source": [
    "#### Observation on Different models tuned and accuracy\n",
    "\n",
    "1. I noticed a slight reduction in accuracy for kNN after tuning from 0.08 to 0.85.\n",
    "2. My SVC classifier improved the most of the three models jumping from 0.83 to 0.93.\n",
    "3. My Random Forest classifier also did marginally well going from 0.88 to 0.89.\n"
   ]
  },
  {
   "cell_type": "markdown",
   "id": "e4f2e070",
   "metadata": {},
   "source": [
    "### Task 4\n",
    "Evaluate alternatives to improve accuracy using the Rocket transformer. Test the Rocket transformer with different numbers of kernels. Consider alternative models for the classifier stage. Again, only the data for subject A should be considered. What conclusions can you draw?"
   ]
  },
  {
   "cell_type": "code",
   "execution_count": 84,
   "id": "54fbc9cd",
   "metadata": {
    "ExecuteTime": {
     "end_time": "2023-11-19T08:22:59.364100Z",
     "start_time": "2023-11-19T08:22:59.333536Z"
    }
   },
   "outputs": [
    {
     "data": {
      "text/plain": [
       "((294, 1, 180), (127, 1, 180))"
      ]
     },
     "execution_count": 84,
     "metadata": {},
     "output_type": "execute_result"
    }
   ],
   "source": [
    "X_train, X_test, y_train, y_test = train_test_split(X3d, y, test_size=0.3, random_state=100)\n",
    "X_train.shape, X_test.shape"
   ]
  },
  {
   "cell_type": "code",
   "execution_count": 49,
   "id": "392e0254",
   "metadata": {
    "ExecuteTime": {
     "end_time": "2023-11-19T08:23:07.871405Z",
     "start_time": "2023-11-19T08:23:04.046906Z"
    },
    "scrolled": true
   },
   "outputs": [
    {
     "data": {
      "text/html": [
       "<style>#sk-container-id-1 {color: black;}#sk-container-id-1 pre{padding: 0;}#sk-container-id-1 div.sk-toggleable {background-color: white;}#sk-container-id-1 label.sk-toggleable__label {cursor: pointer;display: block;width: 100%;margin-bottom: 0;padding: 0.3em;box-sizing: border-box;text-align: center;}#sk-container-id-1 label.sk-toggleable__label-arrow:before {content: \"▸\";float: left;margin-right: 0.25em;color: #696969;}#sk-container-id-1 label.sk-toggleable__label-arrow:hover:before {color: black;}#sk-container-id-1 div.sk-estimator:hover label.sk-toggleable__label-arrow:before {color: black;}#sk-container-id-1 div.sk-toggleable__content {max-height: 0;max-width: 0;overflow: hidden;text-align: left;background-color: #f0f8ff;}#sk-container-id-1 div.sk-toggleable__content pre {margin: 0.2em;color: black;border-radius: 0.25em;background-color: #f0f8ff;}#sk-container-id-1 input.sk-toggleable__control:checked~div.sk-toggleable__content {max-height: 200px;max-width: 100%;overflow: auto;}#sk-container-id-1 input.sk-toggleable__control:checked~label.sk-toggleable__label-arrow:before {content: \"▾\";}#sk-container-id-1 div.sk-estimator input.sk-toggleable__control:checked~label.sk-toggleable__label {background-color: #d4ebff;}#sk-container-id-1 div.sk-label input.sk-toggleable__control:checked~label.sk-toggleable__label {background-color: #d4ebff;}#sk-container-id-1 input.sk-hidden--visually {border: 0;clip: rect(1px 1px 1px 1px);clip: rect(1px, 1px, 1px, 1px);height: 1px;margin: -1px;overflow: hidden;padding: 0;position: absolute;width: 1px;}#sk-container-id-1 div.sk-estimator {font-family: monospace;background-color: #f0f8ff;border: 1px dotted black;border-radius: 0.25em;box-sizing: border-box;margin-bottom: 0.5em;}#sk-container-id-1 div.sk-estimator:hover {background-color: #d4ebff;}#sk-container-id-1 div.sk-parallel-item::after {content: \"\";width: 100%;border-bottom: 1px solid gray;flex-grow: 1;}#sk-container-id-1 div.sk-label:hover label.sk-toggleable__label {background-color: #d4ebff;}#sk-container-id-1 div.sk-serial::before {content: \"\";position: absolute;border-left: 1px solid gray;box-sizing: border-box;top: 0;bottom: 0;left: 50%;z-index: 0;}#sk-container-id-1 div.sk-serial {display: flex;flex-direction: column;align-items: center;background-color: white;padding-right: 0.2em;padding-left: 0.2em;position: relative;}#sk-container-id-1 div.sk-item {position: relative;z-index: 1;}#sk-container-id-1 div.sk-parallel {display: flex;align-items: stretch;justify-content: center;background-color: white;position: relative;}#sk-container-id-1 div.sk-item::before, #sk-container-id-1 div.sk-parallel-item::before {content: \"\";position: absolute;border-left: 1px solid gray;box-sizing: border-box;top: 0;bottom: 0;left: 50%;z-index: -1;}#sk-container-id-1 div.sk-parallel-item {display: flex;flex-direction: column;z-index: 1;position: relative;background-color: white;}#sk-container-id-1 div.sk-parallel-item:first-child::after {align-self: flex-end;width: 50%;}#sk-container-id-1 div.sk-parallel-item:last-child::after {align-self: flex-start;width: 50%;}#sk-container-id-1 div.sk-parallel-item:only-child::after {width: 0;}#sk-container-id-1 div.sk-dashed-wrapped {border: 1px dashed gray;margin: 0 0.4em 0.5em 0.4em;box-sizing: border-box;padding-bottom: 0.4em;background-color: white;}#sk-container-id-1 div.sk-label label {font-family: monospace;font-weight: bold;display: inline-block;line-height: 1.2em;}#sk-container-id-1 div.sk-label-container {text-align: center;}#sk-container-id-1 div.sk-container {/* jupyter's `normalize.less` sets `[hidden] { display: none; }` but bootstrap.min.css set `[hidden] { display: none !important; }` so we also need the `!important` here to be able to override the default hidden behavior on the sphinx rendered scikit-learn.org. See: https://github.com/scikit-learn/scikit-learn/issues/21755 */display: inline-block !important;position: relative;}#sk-container-id-1 div.sk-text-repr-fallback {display: none;}</style><div id=\"sk-container-id-1\" class=\"sk-top-container\"><div class=\"sk-text-repr-fallback\"><pre>Pipeline(steps=[(&#x27;rocket&#x27;, Rocket()),\n",
       "                (&#x27;sgdclassifier&#x27;, SGDClassifier(loss=&#x27;modified_huber&#x27;))])</pre><b>In a Jupyter environment, please rerun this cell to show the HTML representation or trust the notebook. <br />On GitHub, the HTML representation is unable to render, please try loading this page with nbviewer.org.</b></div><div class=\"sk-container\" hidden><div class=\"sk-item sk-dashed-wrapped\"><div class=\"sk-label-container\"><div class=\"sk-label sk-toggleable\"><input class=\"sk-toggleable__control sk-hidden--visually\" id=\"sk-estimator-id-1\" type=\"checkbox\" ><label for=\"sk-estimator-id-1\" class=\"sk-toggleable__label sk-toggleable__label-arrow\">Pipeline</label><div class=\"sk-toggleable__content\"><pre>Pipeline(steps=[(&#x27;rocket&#x27;, Rocket()),\n",
       "                (&#x27;sgdclassifier&#x27;, SGDClassifier(loss=&#x27;modified_huber&#x27;))])</pre></div></div></div><div class=\"sk-serial\"><div class=\"sk-item\"><div class=\"sk-estimator sk-toggleable\"><input class=\"sk-toggleable__control sk-hidden--visually\" id=\"sk-estimator-id-2\" type=\"checkbox\" ><label for=\"sk-estimator-id-2\" class=\"sk-toggleable__label sk-toggleable__label-arrow\">Rocket</label><div class=\"sk-toggleable__content\"><pre>Rocket()</pre></div></div></div><div class=\"sk-item\"><div class=\"sk-estimator sk-toggleable\"><input class=\"sk-toggleable__control sk-hidden--visually\" id=\"sk-estimator-id-3\" type=\"checkbox\" ><label for=\"sk-estimator-id-3\" class=\"sk-toggleable__label sk-toggleable__label-arrow\">SGDClassifier</label><div class=\"sk-toggleable__content\"><pre>SGDClassifier(loss=&#x27;modified_huber&#x27;)</pre></div></div></div></div></div></div></div>"
      ],
      "text/plain": [
       "Pipeline(steps=[('rocket', Rocket()),\n",
       "                ('sgdclassifier', SGDClassifier(loss='modified_huber'))])"
      ]
     },
     "execution_count": 49,
     "metadata": {},
     "output_type": "execute_result"
    }
   ],
   "source": [
    "rocket_pipeline = make_pipeline(\n",
    "    Rocket(),SGDClassifier(\n",
    "        loss= best_params['classifier__loss'], \n",
    "    ))\n",
    "\n",
    "rocket_pipeline.fit(X_train, y_train)"
   ]
  },
  {
   "cell_type": "markdown",
   "id": "bc48d6e2-5269-4494-bb8e-ca3d4e230c62",
   "metadata": {},
   "source": [
    "#### Using visualisation to see the best value for kernel number for SGDClassifier"
   ]
  },
  {
   "cell_type": "code",
   "execution_count": 50,
   "id": "2eef62cc",
   "metadata": {
    "ExecuteTime": {
     "end_time": "2023-11-14T17:52:24.681653Z",
     "start_time": "2023-11-14T17:32:13.460997Z"
    },
    "run_control": {
     "marked": true
    }
   },
   "outputs": [
    {
     "data": {
      "image/png": "[encoded data removed]",
      "text/plain": [
       "<Figure size 640x480 with 1 Axes>"
      ]
     },
     "metadata": {},
     "output_type": "display_data"
    }
   ],
   "source": [
    "\n",
    "# Initialize empty lists to store mean accuracy scores for each configuration\n",
    "mean_accuracy_test = []\n",
    "mean_accuracy_train = []\n",
    "\n",
    "# Iterate through different numbers of kernels\n",
    "for i in range(1000, 20000, 1000):    \n",
    "    # Create a ROCKET transformer with the current number of kernels\n",
    "    rocket_transformer = Rocket(num_kernels=i)\n",
    "    \n",
    "    # Create a pipeline with the ROCKET transformer and a classifier (e.g., SGDClassifier)\n",
    "    rocket_pipeline = Pipeline([\n",
    "        ('rocket', rocket_transformer),\n",
    "        ('classifier', SGDClassifier(\n",
    "                   loss= best_params['classifier__loss']))\n",
    "    ])\n",
    "    \n",
    "    # Define a custom scoring function for accuracy\n",
    "    accuracy_scorer = make_scorer(accuracy_score)\n",
    "    \n",
    "    # Perform cross-validation and get accuracy scores for test and training sets\n",
    "    cv_scores_test = cross_val_score(rocket_pipeline, X3d, y, cv=5, scoring=accuracy_scorer)\n",
    "    cv_scores_train = cross_val_score(rocket_pipeline, X3d, y, cv=5, scoring=accuracy_scorer)\n",
    "    \n",
    "    # Calculate the mean accuracy scores for test and training sets\n",
    "    mean_accuracy_test.append(np.mean(cv_scores_test))\n",
    "    mean_accuracy_train.append(np.mean(cv_scores_train))\n",
    "\n",
    "# Plot the mean accuracy values\n",
    "rocket_num_kernels = range(1000, 20000, 1000)\n",
    "\n",
    "plt.plot(rocket_num_kernels, mean_accuracy_test, marker='o', label='Test')\n",
    "plt.plot(rocket_num_kernels, mean_accuracy_train, marker='o', label='Train')\n",
    "plt.xlabel('Number of Kernels')\n",
    "plt.ylabel('Mean Accuracy')\n",
    "plt.title('Mean Accuracy vs. Number of Kernels for ROCKET Transformer on SGDClassifier')\n",
    "plt.grid(True)\n",
    "plt.legend()\n",
    "plt.show()"
   ]
  },
  {
   "cell_type": "code",
   "execution_count": 55,
   "id": "389672eb",
   "metadata": {
    "ExecuteTime": {
     "end_time": "2023-11-19T08:25:39.563914Z",
     "start_time": "2023-11-19T08:25:39.552793Z"
    }
   },
   "outputs": [],
   "source": [
    "tuned_rocket_pipeline_sdg = make_pipeline(\n",
    "    Rocket(num_kernels = 9200 ),  SGDClassifier(\n",
    "        loss= best_params['classifier__loss'], \n",
    "       \n",
    "    ))\n"
   ]
  },
  {
   "cell_type": "code",
   "execution_count": 56,
   "id": "d595a4d4",
   "metadata": {
    "ExecuteTime": {
     "end_time": "2023-11-19T08:32:08.143344Z",
     "start_time": "2023-11-19T08:31:12.054475Z"
    }
   },
   "outputs": [
    {
     "name": "stdout",
     "output_type": "stream",
     "text": [
      "8x CV Accuracy tuned SDGClassifier with rocket: 0.88\n"
     ]
    },
    {
     "data": {
      "text/plain": [
       "array([0.94339623, 0.71698113, 0.96226415, 0.77358491, 0.94339623,\n",
       "       0.94230769, 0.80769231, 0.94230769])"
      ]
     },
     "execution_count": 56,
     "metadata": {},
     "output_type": "execute_result"
    }
   ],
   "source": [
    "cv_accuracy_rocket = cross_val_score(tuned_rocket_pipeline_sdg, X3d, y, cv=8, verbose = 0,  n_jobs = -1 )\n",
    "print(\"8x CV Accuracy tuned SDGClassifier with rocket: {0:.2f}\".format(cv_accuracy_rocket.mean())) \n",
    "cv_accuracy_rocket"
   ]
  },
  {
   "cell_type": "markdown",
   "id": "eff5656f",
   "metadata": {},
   "source": [
    "#### Observations on different kernel sizes and SDGClassifier \n",
    "\n",
    "We have some interesting results here: \n",
    "1. We developed a graph where we see that our accuracy is better for 9200 kernels however this evaluation doesn't take into consideration other metrics.\n",
    "2. After implementing the best kernel size we observed an accuracy of 0.88, an improvement as our baseline for ROCKET with SDGClassifier was 0.83\n",
    "3. I used the train and test split method in order to see how well different kernel sizes performed on the test and train datasets. We were able to see that the kernel size of 10000 did not generalize as well on the train data."
   ]
  },
  {
   "cell_type": "markdown",
   "id": "79f3a509-2be5-4122-996c-befb0e9a5767",
   "metadata": {},
   "source": [
    "#### Using visualisation to see the best value for kernel number for kNNClassifier"
   ]
  },
  {
   "cell_type": "code",
   "execution_count": 57,
   "id": "fc8da542",
   "metadata": {
    "ExecuteTime": {
     "end_time": "2023-11-16T21:32:00.854123Z",
     "start_time": "2023-11-16T21:25:37.036766Z"
    }
   },
   "outputs": [
    {
     "data": {
      "image/png": "[encoded data removed]",
      "text/plain": [
       "<Figure size 640x480 with 1 Axes>"
      ]
     },
     "metadata": {},
     "output_type": "display_data"
    }
   ],
   "source": [
    "\n",
    "# Initialize empty lists to store mean accuracy scores for each configuration\n",
    "mean_accuracy_test = []\n",
    "mean_accuracy_train = []\n",
    "\n",
    "# Iterate through different numbers of kernels\n",
    "for i in range(1000, 20000, 1000):    \n",
    "    # Create a ROCKET transformer with the current number of kernels\n",
    "    rocket_transformer = Rocket(num_kernels=i)\n",
    "    \n",
    "    # Create a pipeline with the ROCKET transformer and a classifier (e.g., SGDClassifier)\n",
    "    rocket_pipeline_knn = Pipeline([\n",
    "        ('rocket', rocket_transformer),\n",
    "        ('classifier', KNeighborsClassifier(\n",
    "        n_neighbors=best_parameters_knn['classifier__n_neighbors']))\n",
    "    ])\n",
    "    \n",
    "    # Define a custom scoring function for accuracy\n",
    "    accuracy_scorer = make_scorer(accuracy_score)\n",
    "    \n",
    "    # Perform cross-validation and get accuracy scores for test and training sets\n",
    "    cv_scores_test = cross_val_score(rocket_pipeline_knn, X3d, y, cv=5, scoring=accuracy_scorer)\n",
    "    cv_scores_train = cross_val_score(rocket_pipeline_knn, X3d, y, cv=5, scoring=accuracy_scorer)\n",
    "    \n",
    "    # Calculate the mean accuracy scores for test and training sets\n",
    "    mean_accuracy_test.append(np.mean(cv_scores_test))\n",
    "    mean_accuracy_train.append(np.mean(cv_scores_train))\n",
    "\n",
    "rocket_num_kernels = range(1000, 20000, 1000)\n",
    "\n",
    "# Plot the mean accuracy values\n",
    "plt.plot(rocket_num_kernels, mean_accuracy_test, marker='o', label='Test')\n",
    "plt.plot(rocket_num_kernels, mean_accuracy_train, marker='o', label='Train')\n",
    "plt.xlabel('Number of Kernels')\n",
    "plt.ylabel('Mean Accuracy')\n",
    "plt.title('Mean Accuracy vs. Number of Kernels for ROCKET Transformer on kNN Classifier')\n",
    "plt.grid(True)\n",
    "plt.legend()\n",
    "plt.show()"
   ]
  },
  {
   "cell_type": "code",
   "execution_count": 60,
   "id": "6efa6b6a",
   "metadata": {
    "ExecuteTime": {
     "end_time": "2023-11-19T08:36:02.405465Z",
     "start_time": "2023-11-19T08:36:02.398106Z"
    }
   },
   "outputs": [],
   "source": [
    "tuned_rocket_pipeline_knn = make_pipeline(\n",
    "    Rocket(num_kernels = 12100),  KNeighborsClassifier(\n",
    "        n_neighbors=best_parameters_knn['classifier__n_neighbors'],\n",
    "    ))\n"
   ]
  },
  {
   "cell_type": "code",
   "execution_count": 61,
   "id": "816db2f7",
   "metadata": {
    "ExecuteTime": {
     "end_time": "2023-11-19T08:36:27.824883Z",
     "start_time": "2023-11-19T08:36:10.483279Z"
    }
   },
   "outputs": [
    {
     "name": "stdout",
     "output_type": "stream",
     "text": [
      "8x CV tuned Accuracy KNNClassifer with rocket: 0.87\n"
     ]
    },
    {
     "data": {
      "text/plain": [
       "array([0.75471698, 0.81132075, 0.9245283 , 0.86792453, 0.81132075,\n",
       "       0.88461538, 0.98076923, 0.94230769])"
      ]
     },
     "execution_count": 61,
     "metadata": {},
     "output_type": "execute_result"
    }
   ],
   "source": [
    "cv_accuracy_rocket = cross_val_score(tuned_rocket_pipeline_knn, X3d, y, cv=8, verbose = 0,  n_jobs = -1 )\n",
    "print(\"8x CV tuned Accuracy KNNClassifer with rocket: {0:.2f}\".format(cv_accuracy_rocket.mean())) \n",
    "cv_accuracy_rocket"
   ]
  },
  {
   "cell_type": "markdown",
   "id": "e39bd867-91d5-4094-9256-9bc876d7b8f2",
   "metadata": {},
   "source": [
    "#### Using visualisation to see the best value for kernel number for SVC Classifier"
   ]
  },
  {
   "cell_type": "code",
   "execution_count": 62,
   "id": "e3c3614b-126c-4739-8130-e6fc3d59098e",
   "metadata": {},
   "outputs": [
    {
     "data": {
      "image/png": "[encoded data removed]",
      "text/plain": [
       "<Figure size 640x480 with 1 Axes>"
      ]
     },
     "metadata": {},
     "output_type": "display_data"
    }
   ],
   "source": [
    "\n",
    "# Initialize empty lists to store mean accuracy scores for each configuration\n",
    "mean_accuracy_test = []\n",
    "mean_accuracy_train = []\n",
    "\n",
    "# Iterate through different numbers of kernels\n",
    "for i in range(1000, 20000, 1000):    \n",
    "    # Create a ROCKET transformer with the current number of kernels\n",
    "    rocket_transformer = Rocket(num_kernels=i)\n",
    "    \n",
    "    # Create a pipeline with the ROCKET transformer and a classifier (e.g., SGDClassifier)\n",
    "    rocket_pipeline_svc = Pipeline([\n",
    "        ('rocket', rocket_transformer),  \n",
    "        ('classifier', SVC(\n",
    "        C =best_parameters_svc['classifier__C'],\n",
    "        kernel = best_parameters_svc['classifier__kernel']\n",
    "    ))\n",
    "    ])\n",
    "    \n",
    "    # Define a custom scoring function for accuracy\n",
    "    accuracy_scorer = make_scorer(accuracy_score)\n",
    "    \n",
    "    # Perform cross-validation and get accuracy scores for test and training sets\n",
    "    cv_scores_test = cross_val_score(rocket_pipeline_svc, X3d, y, cv=5, scoring=accuracy_scorer)\n",
    "    cv_scores_train = cross_val_score(rocket_pipeline_svc, X3d, y, cv=5, scoring=accuracy_scorer)\n",
    "    \n",
    "    # Calculate the mean accuracy scores for test and training sets\n",
    "    mean_accuracy_test.append(np.mean(cv_scores_test))\n",
    "    mean_accuracy_train.append(np.mean(cv_scores_train))\n",
    "\n",
    "rocket_num_kernels = range(1000, 20000, 1000)\n",
    "\n",
    "# Plot the mean accuracy values\n",
    "plt.plot(rocket_num_kernels, mean_accuracy_test, marker='o', label='Test')\n",
    "plt.plot(rocket_num_kernels, mean_accuracy_train, marker='o', label='Train')\n",
    "plt.xlabel('Number of Kernels')\n",
    "plt.ylabel('Mean Accuracy')\n",
    "plt.title('Mean Accuracy vs. Number of Kernels for ROCKET Transformer on SVC classifier')\n",
    "plt.grid(True)\n",
    "plt.legend()\n",
    "plt.show()"
   ]
  },
  {
   "cell_type": "code",
   "execution_count": 63,
   "id": "c57b780f-3c87-42ca-b9c9-fee2bf7c19d4",
   "metadata": {},
   "outputs": [],
   "source": [
    "tuned_rocket_pipeline_svc = make_pipeline(\n",
    "    Rocket(num_kernels = 2000),  SVC(\n",
    "        C =best_parameters_svc['classifier__C'],\n",
    "        kernel = best_parameters_svc['classifier__kernel']\n",
    "    ))"
   ]
  },
  {
   "cell_type": "code",
   "execution_count": 64,
   "id": "31ab3c06-bbb0-49de-8830-4155fff44324",
   "metadata": {},
   "outputs": [
    {
     "name": "stdout",
     "output_type": "stream",
     "text": [
      "8x CV Accuracy tuned SVC Classifier with rocket: 0.95\n"
     ]
    },
    {
     "data": {
      "text/plain": [
       "array([0.9245283 , 0.83018868, 0.98113208, 0.98113208, 0.90566038,\n",
       "       1.        , 1.        , 0.94230769])"
      ]
     },
     "execution_count": 64,
     "metadata": {},
     "output_type": "execute_result"
    }
   ],
   "source": [
    "cv_accuracy_rocket = cross_val_score(tuned_rocket_pipeline_svc, X3d, y, cv=8, verbose = 0,  n_jobs = -1 )\n",
    "print(\"8x CV Accuracy tuned SVC Classifier with rocket: {0:.2f}\".format(cv_accuracy_rocket.mean())) \n",
    "cv_accuracy_rocket"
   ]
  },
  {
   "cell_type": "markdown",
   "id": "dc13b43d-7af9-447f-8d8c-c58d7a48a35f",
   "metadata": {},
   "source": [
    "#### Using visualisation to see the best value for kernel number for Random Forest Classifier"
   ]
  },
  {
   "cell_type": "code",
   "execution_count": 65,
   "id": "b38d6955-eeba-447f-965a-1d24006100c1",
   "metadata": {},
   "outputs": [
    {
     "data": {
      "image/png": "[encoded data removed]",
      "text/plain": [
       "<Figure size 640x480 with 1 Axes>"
      ]
     },
     "metadata": {},
     "output_type": "display_data"
    }
   ],
   "source": [
    "\n",
    "# Initialize empty lists to store mean accuracy scores for each configuration\n",
    "mean_accuracy_test = []\n",
    "mean_accuracy_train = []\n",
    "\n",
    "# Iterate through different numbers of kernels\n",
    "for i in range(1000, 20000, 1000):    \n",
    "    # Create a ROCKET transformer with the current number of kernels\n",
    "    rocket_transformer = Rocket(num_kernels=i)\n",
    "    \n",
    "    # Create a pipeline with the ROCKET transformer and a classifier (e.g., SGDClassifier)\n",
    "    rocket_pipeline_rf = Pipeline([\n",
    "        ('rocket', rocket_transformer),  \n",
    "        ('classifier', RandomForestClassifier(\n",
    "        n_estimators =best_parameters_rf['classifier__n_estimators'],\n",
    "        max_depth = best_parameters_rf['classifier__max_depth']\n",
    "    ))\n",
    "    ]) \n",
    "    \n",
    "    # Define a custom scoring function for accuracy\n",
    "    accuracy_scorer = make_scorer(accuracy_score)\n",
    "    \n",
    "    # Perform cross-validation and get accuracy scores for test and training sets\n",
    "    cv_scores_test = cross_val_score(rocket_pipeline_rf, X3d, y, cv=5, scoring=accuracy_scorer)\n",
    "    cv_scores_train = cross_val_score(rocket_pipeline_rf, X3d, y, cv=5, scoring=accuracy_scorer)\n",
    "    \n",
    "    # Calculate the mean accuracy scores for test and training sets\n",
    "    mean_accuracy_test.append(np.mean(cv_scores_test))\n",
    "    mean_accuracy_train.append(np.mean(cv_scores_train))\n",
    "\n",
    "rocket_num_kernels = range(1000, 20000, 1000)\n",
    "\n",
    "# Plot the mean accuracy values\n",
    "plt.plot(rocket_num_kernels, mean_accuracy_test, marker='o', label='Test')\n",
    "plt.plot(rocket_num_kernels, mean_accuracy_train, marker='o', label='Train')\n",
    "plt.xlabel('Number of Kernels')\n",
    "plt.ylabel('Mean Accuracy')\n",
    "plt.title('Mean Accuracy vs. Number of Kernels for ROCKET Transformer on Random Forest Classifier')\n",
    "plt.grid(True)\n",
    "plt.legend()\n",
    "plt.show()"
   ]
  },
  {
   "cell_type": "code",
   "execution_count": 66,
   "id": "bafaa668-908a-4ffa-bf21-a623d957fa14",
   "metadata": {},
   "outputs": [],
   "source": [
    "tuned_rocket_pipeline_rf = make_pipeline(\n",
    "    Rocket(num_kernels = 9200),  RandomForestClassifier(\n",
    "        n_estimators =best_parameters_rf['classifier__n_estimators'],\n",
    "        max_depth = best_parameters_rf['classifier__max_depth']\n",
    "    ))"
   ]
  },
  {
   "cell_type": "code",
   "execution_count": 67,
   "id": "013963f0-7343-4657-9b3a-730942758e14",
   "metadata": {},
   "outputs": [
    {
     "name": "stdout",
     "output_type": "stream",
     "text": [
      "8x CV Accuracy tuned Random Forest Classifier with rocket: 0.94\n"
     ]
    },
    {
     "data": {
      "text/plain": [
       "array([0.9245283 , 0.88679245, 0.96226415, 0.96226415, 0.88679245,\n",
       "       1.        , 1.        , 0.92307692])"
      ]
     },
     "execution_count": 67,
     "metadata": {},
     "output_type": "execute_result"
    }
   ],
   "source": [
    "cv_accuracy_rocket = cross_val_score(tuned_rocket_pipeline_rf, X3d, y, cv=8, verbose = 0,  n_jobs = -1 )\n",
    "print(\"8x CV Accuracy tuned Random Forest Classifier with rocket: {0:.2f}\".format(cv_accuracy_rocket.mean())) \n",
    "cv_accuracy_rocket"
   ]
  },
  {
   "cell_type": "markdown",
   "id": "00e8b047",
   "metadata": {},
   "source": [
    "#### Optimal Model for ROCKET Transformer and Accuracy Rate \n",
    "1. We can that Random Forest Classifier with ROCKET did the best with an accuracy of 0.94.\n",
    "2. We can observe the impact on different kernel sizes on train-test splits on different models."
   ]
  },
  {
   "cell_type": "markdown",
   "id": "412562ea",
   "metadata": {},
   "source": [
    "### Task 5\n",
    "Test to see if the main conclusions from Tasks 3 and 4 hold up with the data for subject B. Comment on your findings. "
   ]
  },
  {
   "cell_type": "code",
   "execution_count": 68,
   "id": "6e90289c",
   "metadata": {
    "ExecuteTime": {
     "end_time": "2023-11-19T15:44:02.547382Z",
     "start_time": "2023-11-19T15:44:02.487625Z"
    }
   },
   "outputs": [
    {
     "name": "stdout",
     "output_type": "stream",
     "text": [
      "(251, 181)\n"
     ]
    },
    {
     "data": {
      "text/html": [
       "<div>\n",
       "<style scoped>\n",
       "    .dataframe tbody tr th:only-of-type {\n",
       "        vertical-align: middle;\n",
       "    }\n",
       "\n",
       "    .dataframe tbody tr th {\n",
       "        vertical-align: top;\n",
       "    }\n",
       "\n",
       "    .dataframe thead th {\n",
       "        text-align: right;\n",
       "    }\n",
       "</style>\n",
       "<table border=\"1\" class=\"dataframe\">\n",
       "  <thead>\n",
       "    <tr style=\"text-align: right;\">\n",
       "      <th></th>\n",
       "      <th>0</th>\n",
       "      <th>1</th>\n",
       "      <th>2</th>\n",
       "      <th>3</th>\n",
       "      <th>4</th>\n",
       "      <th>5</th>\n",
       "      <th>6</th>\n",
       "      <th>7</th>\n",
       "      <th>8</th>\n",
       "      <th>9</th>\n",
       "      <th>...</th>\n",
       "      <th>171</th>\n",
       "      <th>172</th>\n",
       "      <th>173</th>\n",
       "      <th>174</th>\n",
       "      <th>175</th>\n",
       "      <th>176</th>\n",
       "      <th>177</th>\n",
       "      <th>178</th>\n",
       "      <th>179</th>\n",
       "      <th>180</th>\n",
       "    </tr>\n",
       "  </thead>\n",
       "  <tbody>\n",
       "    <tr>\n",
       "      <th>0</th>\n",
       "      <td>F</td>\n",
       "      <td>1.49</td>\n",
       "      <td>4.09</td>\n",
       "      <td>9.27</td>\n",
       "      <td>12.70</td>\n",
       "      <td>12.80</td>\n",
       "      <td>12.00</td>\n",
       "      <td>12.40</td>\n",
       "      <td>13.20</td>\n",
       "      <td>13.00</td>\n",
       "      <td>...</td>\n",
       "      <td>9.53</td>\n",
       "      <td>9.30</td>\n",
       "      <td>9.61</td>\n",
       "      <td>9.25</td>\n",
       "      <td>8.07</td>\n",
       "      <td>7.62</td>\n",
       "      <td>8.76</td>\n",
       "      <td>9.61</td>\n",
       "      <td>7.63</td>\n",
       "      <td>3.57</td>\n",
       "    </tr>\n",
       "    <tr>\n",
       "      <th>1</th>\n",
       "      <td>F</td>\n",
       "      <td>7.35</td>\n",
       "      <td>7.25</td>\n",
       "      <td>7.80</td>\n",
       "      <td>7.94</td>\n",
       "      <td>7.34</td>\n",
       "      <td>6.48</td>\n",
       "      <td>5.87</td>\n",
       "      <td>5.47</td>\n",
       "      <td>5.20</td>\n",
       "      <td>...</td>\n",
       "      <td>8.92</td>\n",
       "      <td>7.66</td>\n",
       "      <td>7.76</td>\n",
       "      <td>8.28</td>\n",
       "      <td>8.99</td>\n",
       "      <td>10.20</td>\n",
       "      <td>11.60</td>\n",
       "      <td>11.90</td>\n",
       "      <td>10.70</td>\n",
       "      <td>8.72</td>\n",
       "    </tr>\n",
       "    <tr>\n",
       "      <th>2</th>\n",
       "      <td>F</td>\n",
       "      <td>9.31</td>\n",
       "      <td>9.06</td>\n",
       "      <td>9.41</td>\n",
       "      <td>9.51</td>\n",
       "      <td>9.23</td>\n",
       "      <td>9.14</td>\n",
       "      <td>9.08</td>\n",
       "      <td>8.45</td>\n",
       "      <td>7.63</td>\n",
       "      <td>...</td>\n",
       "      <td>11.40</td>\n",
       "      <td>10.50</td>\n",
       "      <td>9.63</td>\n",
       "      <td>9.29</td>\n",
       "      <td>9.75</td>\n",
       "      <td>10.20</td>\n",
       "      <td>10.10</td>\n",
       "      <td>10.10</td>\n",
       "      <td>10.20</td>\n",
       "      <td>10.00</td>\n",
       "    </tr>\n",
       "    <tr>\n",
       "      <th>3</th>\n",
       "      <td>F</td>\n",
       "      <td>9.82</td>\n",
       "      <td>10.50</td>\n",
       "      <td>9.86</td>\n",
       "      <td>10.20</td>\n",
       "      <td>10.90</td>\n",
       "      <td>10.60</td>\n",
       "      <td>9.97</td>\n",
       "      <td>9.50</td>\n",
       "      <td>8.15</td>\n",
       "      <td>...</td>\n",
       "      <td>11.50</td>\n",
       "      <td>10.60</td>\n",
       "      <td>9.07</td>\n",
       "      <td>7.65</td>\n",
       "      <td>6.83</td>\n",
       "      <td>6.67</td>\n",
       "      <td>6.28</td>\n",
       "      <td>5.09</td>\n",
       "      <td>4.77</td>\n",
       "      <td>7.00</td>\n",
       "    </tr>\n",
       "    <tr>\n",
       "      <th>4</th>\n",
       "      <td>F</td>\n",
       "      <td>4.68</td>\n",
       "      <td>3.68</td>\n",
       "      <td>4.63</td>\n",
       "      <td>5.01</td>\n",
       "      <td>4.05</td>\n",
       "      <td>3.40</td>\n",
       "      <td>4.00</td>\n",
       "      <td>4.62</td>\n",
       "      <td>4.25</td>\n",
       "      <td>...</td>\n",
       "      <td>11.90</td>\n",
       "      <td>10.60</td>\n",
       "      <td>11.10</td>\n",
       "      <td>12.90</td>\n",
       "      <td>14.00</td>\n",
       "      <td>13.60</td>\n",
       "      <td>13.00</td>\n",
       "      <td>12.80</td>\n",
       "      <td>11.50</td>\n",
       "      <td>8.12</td>\n",
       "    </tr>\n",
       "    <tr>\n",
       "      <th>...</th>\n",
       "      <td>...</td>\n",
       "      <td>...</td>\n",
       "      <td>...</td>\n",
       "      <td>...</td>\n",
       "      <td>...</td>\n",
       "      <td>...</td>\n",
       "      <td>...</td>\n",
       "      <td>...</td>\n",
       "      <td>...</td>\n",
       "      <td>...</td>\n",
       "      <td>...</td>\n",
       "      <td>...</td>\n",
       "      <td>...</td>\n",
       "      <td>...</td>\n",
       "      <td>...</td>\n",
       "      <td>...</td>\n",
       "      <td>...</td>\n",
       "      <td>...</td>\n",
       "      <td>...</td>\n",
       "      <td>...</td>\n",
       "      <td>...</td>\n",
       "    </tr>\n",
       "    <tr>\n",
       "      <th>246</th>\n",
       "      <td>NF</td>\n",
       "      <td>5.47</td>\n",
       "      <td>5.91</td>\n",
       "      <td>6.08</td>\n",
       "      <td>6.72</td>\n",
       "      <td>8.01</td>\n",
       "      <td>8.76</td>\n",
       "      <td>8.48</td>\n",
       "      <td>8.15</td>\n",
       "      <td>8.23</td>\n",
       "      <td>...</td>\n",
       "      <td>11.00</td>\n",
       "      <td>9.36</td>\n",
       "      <td>9.18</td>\n",
       "      <td>9.72</td>\n",
       "      <td>9.54</td>\n",
       "      <td>8.58</td>\n",
       "      <td>7.64</td>\n",
       "      <td>6.76</td>\n",
       "      <td>5.73</td>\n",
       "      <td>5.18</td>\n",
       "    </tr>\n",
       "    <tr>\n",
       "      <th>247</th>\n",
       "      <td>NF</td>\n",
       "      <td>4.79</td>\n",
       "      <td>5.81</td>\n",
       "      <td>6.82</td>\n",
       "      <td>7.60</td>\n",
       "      <td>8.36</td>\n",
       "      <td>9.01</td>\n",
       "      <td>9.19</td>\n",
       "      <td>9.04</td>\n",
       "      <td>8.79</td>\n",
       "      <td>...</td>\n",
       "      <td>13.70</td>\n",
       "      <td>12.90</td>\n",
       "      <td>11.80</td>\n",
       "      <td>9.63</td>\n",
       "      <td>7.22</td>\n",
       "      <td>5.84</td>\n",
       "      <td>5.64</td>\n",
       "      <td>5.63</td>\n",
       "      <td>5.09</td>\n",
       "      <td>4.53</td>\n",
       "    </tr>\n",
       "    <tr>\n",
       "      <th>248</th>\n",
       "      <td>NF</td>\n",
       "      <td>4.05</td>\n",
       "      <td>4.92</td>\n",
       "      <td>5.89</td>\n",
       "      <td>6.83</td>\n",
       "      <td>7.89</td>\n",
       "      <td>8.74</td>\n",
       "      <td>8.99</td>\n",
       "      <td>8.86</td>\n",
       "      <td>8.60</td>\n",
       "      <td>...</td>\n",
       "      <td>8.02</td>\n",
       "      <td>7.02</td>\n",
       "      <td>6.58</td>\n",
       "      <td>6.33</td>\n",
       "      <td>5.77</td>\n",
       "      <td>4.99</td>\n",
       "      <td>4.51</td>\n",
       "      <td>4.36</td>\n",
       "      <td>4.11</td>\n",
       "      <td>3.80</td>\n",
       "    </tr>\n",
       "    <tr>\n",
       "      <th>249</th>\n",
       "      <td>NF</td>\n",
       "      <td>3.98</td>\n",
       "      <td>4.71</td>\n",
       "      <td>4.72</td>\n",
       "      <td>5.26</td>\n",
       "      <td>6.18</td>\n",
       "      <td>6.55</td>\n",
       "      <td>7.01</td>\n",
       "      <td>7.75</td>\n",
       "      <td>7.50</td>\n",
       "      <td>...</td>\n",
       "      <td>7.68</td>\n",
       "      <td>7.50</td>\n",
       "      <td>6.54</td>\n",
       "      <td>5.74</td>\n",
       "      <td>5.45</td>\n",
       "      <td>5.12</td>\n",
       "      <td>4.64</td>\n",
       "      <td>3.91</td>\n",
       "      <td>2.97</td>\n",
       "      <td>2.90</td>\n",
       "    </tr>\n",
       "    <tr>\n",
       "      <th>250</th>\n",
       "      <td>NF</td>\n",
       "      <td>2.25</td>\n",
       "      <td>2.02</td>\n",
       "      <td>2.81</td>\n",
       "      <td>2.77</td>\n",
       "      <td>2.76</td>\n",
       "      <td>2.86</td>\n",
       "      <td>2.86</td>\n",
       "      <td>3.17</td>\n",
       "      <td>3.58</td>\n",
       "      <td>...</td>\n",
       "      <td>4.06</td>\n",
       "      <td>4.83</td>\n",
       "      <td>4.90</td>\n",
       "      <td>4.75</td>\n",
       "      <td>5.65</td>\n",
       "      <td>5.89</td>\n",
       "      <td>5.43</td>\n",
       "      <td>6.83</td>\n",
       "      <td>8.00</td>\n",
       "      <td>5.46</td>\n",
       "    </tr>\n",
       "  </tbody>\n",
       "</table>\n",
       "<p>251 rows × 181 columns</p>\n",
       "</div>"
      ],
      "text/plain": [
       "    0     1      2     3      4      5      6      7      8      9    ...  \\\n",
       "0     F  1.49   4.09  9.27  12.70  12.80  12.00  12.40  13.20  13.00  ...   \n",
       "1     F  7.35   7.25  7.80   7.94   7.34   6.48   5.87   5.47   5.20  ...   \n",
       "2     F  9.31   9.06  9.41   9.51   9.23   9.14   9.08   8.45   7.63  ...   \n",
       "3     F  9.82  10.50  9.86  10.20  10.90  10.60   9.97   9.50   8.15  ...   \n",
       "4     F  4.68   3.68  4.63   5.01   4.05   3.40   4.00   4.62   4.25  ...   \n",
       "..   ..   ...    ...   ...    ...    ...    ...    ...    ...    ...  ...   \n",
       "246  NF  5.47   5.91  6.08   6.72   8.01   8.76   8.48   8.15   8.23  ...   \n",
       "247  NF  4.79   5.81  6.82   7.60   8.36   9.01   9.19   9.04   8.79  ...   \n",
       "248  NF  4.05   4.92  5.89   6.83   7.89   8.74   8.99   8.86   8.60  ...   \n",
       "249  NF  3.98   4.71  4.72   5.26   6.18   6.55   7.01   7.75   7.50  ...   \n",
       "250  NF  2.25   2.02  2.81   2.77   2.76   2.86   2.86   3.17   3.58  ...   \n",
       "\n",
       "       171    172    173    174    175    176    177    178    179    180  \n",
       "0     9.53   9.30   9.61   9.25   8.07   7.62   8.76   9.61   7.63   3.57  \n",
       "1     8.92   7.66   7.76   8.28   8.99  10.20  11.60  11.90  10.70   8.72  \n",
       "2    11.40  10.50   9.63   9.29   9.75  10.20  10.10  10.10  10.20  10.00  \n",
       "3    11.50  10.60   9.07   7.65   6.83   6.67   6.28   5.09   4.77   7.00  \n",
       "4    11.90  10.60  11.10  12.90  14.00  13.60  13.00  12.80  11.50   8.12  \n",
       "..     ...    ...    ...    ...    ...    ...    ...    ...    ...    ...  \n",
       "246  11.00   9.36   9.18   9.72   9.54   8.58   7.64   6.76   5.73   5.18  \n",
       "247  13.70  12.90  11.80   9.63   7.22   5.84   5.64   5.63   5.09   4.53  \n",
       "248   8.02   7.02   6.58   6.33   5.77   4.99   4.51   4.36   4.11   3.80  \n",
       "249   7.68   7.50   6.54   5.74   5.45   5.12   4.64   3.91   2.97   2.90  \n",
       "250   4.06   4.83   4.90   4.75   5.65   5.89   5.43   6.83   8.00   5.46  \n",
       "\n",
       "[251 rows x 181 columns]"
      ]
     },
     "execution_count": 68,
     "metadata": {},
     "output_type": "execute_result"
    }
   ],
   "source": [
    "fatigue_df_B = pd.read_csv('fatigueB.csv', header = None) # sep = '\\s+')\n",
    "print(fatigue_df_B.shape)\n",
    "fatigue_df_B"
   ]
  },
  {
   "cell_type": "code",
   "execution_count": 80,
   "id": "f18b4218",
   "metadata": {
    "ExecuteTime": {
     "end_time": "2023-11-19T15:44:03.097137Z",
     "start_time": "2023-11-19T15:44:03.084147Z"
    }
   },
   "outputs": [
    {
     "name": "stdout",
     "output_type": "stream",
     "text": [
      "0\n"
     ]
    }
   ],
   "source": [
    "print(fatigue_df.isnull().sum().sum())\n"
   ]
  },
  {
   "cell_type": "code",
   "execution_count": 70,
   "id": "17d0fcd0",
   "metadata": {
    "ExecuteTime": {
     "end_time": "2023-11-19T15:44:04.369970Z",
     "start_time": "2023-11-19T15:44:04.231495Z"
    }
   },
   "outputs": [
    {
     "data": {
      "text/plain": [
       "Text(0, 0.5, 'Accel Mag')"
      ]
     },
     "execution_count": 70,
     "metadata": {},
     "output_type": "execute_result"
    },
    {
     "data": {
      "image/png": "[encoded data removed]",
      "text/plain": [
       "<Figure size 400x300 with 1 Axes>"
      ]
     },
     "metadata": {},
     "output_type": "display_data"
    }
   ],
   "source": [
    "fatigue_df_B.iloc[4][1:].plot(label='Fatigued B')\n",
    "fatigue_df_B.iloc[-5][1:].plot(figsize=(4,3), label = 'Not Fatigued B')\n",
    "plt.legend(loc='upper center', bbox_to_anchor=(0.5, 1.15),ncol=2)\n",
    "plt.ylabel('Accel Mag')\n"
   ]
  },
  {
   "cell_type": "code",
   "execution_count": 71,
   "id": "48622250",
   "metadata": {
    "ExecuteTime": {
     "end_time": "2023-11-19T15:44:04.977368Z",
     "start_time": "2023-11-19T15:44:04.969678Z"
    }
   },
   "outputs": [],
   "source": [
    "y_B = fatigue_df_B.pop(0).values\n",
    "X_B = fatigue_df_B.values"
   ]
  },
  {
   "cell_type": "markdown",
   "id": "4bb2e43a-e858-4c1d-a97a-28839841c69a",
   "metadata": {},
   "source": [
    "#### Implementing SDGClassifier on dataset B "
   ]
  },
  {
   "cell_type": "code",
   "execution_count": 81,
   "id": "ab10c552-1048-4141-a089-5cc66c0022c2",
   "metadata": {},
   "outputs": [
    {
     "name": "stdout",
     "output_type": "stream",
     "text": [
      "8x CV Accuracy Tuned SDGClassifiers: 0.81\n"
     ]
    },
    {
     "data": {
      "text/plain": [
       "array([0.8125    , 0.875     , 0.84375   , 0.70967742, 0.87096774,\n",
       "       1.        , 0.80645161, 0.58064516])"
      ]
     },
     "execution_count": 81,
     "metadata": {},
     "output_type": "execute_result"
    }
   ],
   "source": [
    "sgd_scores = cross_val_score(SGDpipe_tuned, X_B, y_B, cv=8, verbose = 0,  n_jobs = -1)\n",
    "print(\"8x CV Accuracy Tuned SDGClassifiers: {0:.2f}\".format(sgd_scores.mean())) \n",
    "sgd_scores"
   ]
  },
  {
   "cell_type": "markdown",
   "id": "879491a4",
   "metadata": {},
   "source": [
    "#### Implementing kNN classifier on dataset B "
   ]
  },
  {
   "cell_type": "code",
   "execution_count": 72,
   "id": "b30c79b5",
   "metadata": {
    "ExecuteTime": {
     "end_time": "2023-11-19T15:47:00.421666Z",
     "start_time": "2023-11-19T15:46:56.794741Z"
    }
   },
   "outputs": [
    {
     "name": "stdout",
     "output_type": "stream",
     "text": [
      "8x CV Accuracy KNNClassifer: 0.90\n"
     ]
    },
    {
     "data": {
      "text/plain": [
       "array([0.8125    , 0.90625   , 1.        , 0.83870968, 0.90322581,\n",
       "       0.96774194, 0.87096774, 0.87096774])"
      ]
     },
     "execution_count": 72,
     "metadata": {},
     "output_type": "execute_result"
    }
   ],
   "source": [
    "knn_df_B_scores = cross_val_score(knn_pipeline_tuned, X_B, y_B, cv=8, verbose = 0,  n_jobs = -1)\n",
    "print(\"8x CV Accuracy KNNClassifer: {0:.2f}\".format(knn_df_B_scores.mean())) \n",
    "knn_df_B_scores"
   ]
  },
  {
   "cell_type": "markdown",
   "id": "9537fac5-ec44-4cfb-ab5c-a47d18cc48a6",
   "metadata": {},
   "source": [
    "#### Implementing SVC classifier on dataset B "
   ]
  },
  {
   "cell_type": "code",
   "execution_count": 73,
   "id": "fc36d107-feb6-49e4-b1d1-62d683a6f01b",
   "metadata": {},
   "outputs": [
    {
     "name": "stdout",
     "output_type": "stream",
     "text": [
      "8x CV Accuracy  SVC Classifer: 0.94\n"
     ]
    },
    {
     "data": {
      "text/plain": [
       "array([0.84375   , 0.96875   , 1.        , 0.93548387, 1.        ,\n",
       "       1.        , 0.90322581, 0.83870968])"
      ]
     },
     "execution_count": 73,
     "metadata": {},
     "output_type": "execute_result"
    }
   ],
   "source": [
    "svc_df_B_scores = cross_val_score(svc_pipeline_tuned, X_B, y_B, cv=8, verbose = 0,  n_jobs = -1)\n",
    "print(\"8x CV Accuracy  SVC Classifer: {0:.2f}\".format(svc_df_B_scores.mean())) \n",
    "svc_df_B_scores"
   ]
  },
  {
   "cell_type": "markdown",
   "id": "c75a4800-7933-42bf-b2e3-15a00b0e731e",
   "metadata": {},
   "source": [
    "#### Implementing Random Forest classifier on dataset B "
   ]
  },
  {
   "cell_type": "code",
   "execution_count": 75,
   "id": "ad3df131-648c-418f-8bfd-ba8abcffe001",
   "metadata": {},
   "outputs": [
    {
     "name": "stdout",
     "output_type": "stream",
     "text": [
      "8x CV Accuracy Random Forest Classifer: 0.90\n"
     ]
    },
    {
     "data": {
      "text/plain": [
       "array([0.75      , 0.9375    , 1.        , 0.96774194, 0.93548387,\n",
       "       1.        , 0.77419355, 0.83870968])"
      ]
     },
     "execution_count": 75,
     "metadata": {},
     "output_type": "execute_result"
    }
   ],
   "source": [
    "rf_df_B_scores = cross_val_score(rf_pipeline_tuned, X_B, y_B, cv=8, verbose = 0,  n_jobs = -1)\n",
    "print(\"8x CV Accuracy Random Forest Classifer: {0:.2f}\".format(rf_df_B_scores.mean())) \n",
    "rf_df_B_scores"
   ]
  },
  {
   "cell_type": "code",
   "execution_count": 76,
   "id": "e660ca4c",
   "metadata": {
    "ExecuteTime": {
     "end_time": "2023-11-19T15:48:07.640665Z",
     "start_time": "2023-11-19T15:48:07.632581Z"
    }
   },
   "outputs": [
    {
     "data": {
      "text/plain": [
       "(251, 1, 180)"
      ]
     },
     "execution_count": 76,
     "metadata": {},
     "output_type": "execute_result"
    }
   ],
   "source": [
    "X3d_B = X_B[:,np.newaxis,:] # time series algs require a 3D data array (sample, var, tick)\n",
    "X3d_B.shape"
   ]
  },
  {
   "cell_type": "markdown",
   "id": "b6c5629f-9eda-427a-b4bc-cb4c2dbf1ae7",
   "metadata": {},
   "source": [
    "#### Implementing rocket transformer with SDGClassifier  on dataset B "
   ]
  },
  {
   "cell_type": "code",
   "execution_count": 83,
   "id": "7fee18ba-073e-406a-8764-aaf7c477d2e3",
   "metadata": {},
   "outputs": [
    {
     "name": "stdout",
     "output_type": "stream",
     "text": [
      "8x CV Accuracy tuned SDGClassifier with rocket: 0.88\n"
     ]
    },
    {
     "data": {
      "text/plain": [
       "array([0.78125   , 0.875     , 0.9375    , 0.96774194, 1.        ,\n",
       "       1.        , 0.93548387, 0.5483871 ])"
      ]
     },
     "execution_count": 83,
     "metadata": {},
     "output_type": "execute_result"
    }
   ],
   "source": [
    "cv_accuracy_rocketsdg_B = cross_val_score(tuned_rocket_pipeline_sdg, X3d_B, y_B, cv=8, verbose = 0,  n_jobs = -1 )\n",
    "print(\"8x CV Accuracy tuned SDGClassifier with rocket: {0:.2f}\".format(cv_accuracy_rocketsdg_B.mean())) \n",
    "cv_accuracy_rocketsdg_B"
   ]
  },
  {
   "cell_type": "markdown",
   "id": "503516e0",
   "metadata": {},
   "source": [
    "#### Implementing rocket transformer with kNN classifier  on dataset B "
   ]
  },
  {
   "cell_type": "code",
   "execution_count": 77,
   "id": "cb8aa0bd",
   "metadata": {
    "ExecuteTime": {
     "end_time": "2023-11-19T15:49:34.206910Z",
     "start_time": "2023-11-19T15:49:24.285580Z"
    },
    "scrolled": true
   },
   "outputs": [
    {
     "name": "stdout",
     "output_type": "stream",
     "text": [
      "8x CV tuned Accuracy KNNClassifer: 0.92\n"
     ]
    },
    {
     "data": {
      "text/plain": [
       "array([0.78125   , 0.9375    , 0.96875   , 0.93548387, 0.96774194,\n",
       "       1.        , 0.93548387, 0.80645161])"
      ]
     },
     "execution_count": 77,
     "metadata": {},
     "output_type": "execute_result"
    }
   ],
   "source": [
    "cv_accuracy_rocketknn_B = cross_val_score(tuned_rocket_pipeline_knn, X3d_B, y_B, cv=8, verbose = 0,  n_jobs = -1 )\n",
    "print(\"8x CV tuned Accuracy KNNClassifer: {0:.2f}\".format(cv_accuracy_rocketknn_B.mean())) \n",
    "cv_accuracy_rocketknn_B"
   ]
  },
  {
   "cell_type": "markdown",
   "id": "77c6ce48-de98-437a-8966-3e12e3321447",
   "metadata": {},
   "source": [
    "#### Implementing rocket transformer with SVC Classifier on dataset B "
   ]
  },
  {
   "cell_type": "code",
   "execution_count": 78,
   "id": "37260f35-1f6b-42be-ae54-2b8612ecd412",
   "metadata": {},
   "outputs": [
    {
     "name": "stdout",
     "output_type": "stream",
     "text": [
      "8x CV tuned Accuracy SVC Classifer: 0.96\n"
     ]
    },
    {
     "data": {
      "text/plain": [
       "array([0.84375   , 0.96875   , 1.        , 1.        , 0.96774194,\n",
       "       1.        , 0.96774194, 0.93548387])"
      ]
     },
     "execution_count": 78,
     "metadata": {},
     "output_type": "execute_result"
    }
   ],
   "source": [
    "cv_accuracy_rocketsvc_B = cross_val_score(tuned_rocket_pipeline_svc, X3d_B, y_B, cv=8, verbose = 0,  n_jobs = -1 )\n",
    "print(\"8x CV tuned Accuracy SVC Classifer: {0:.2f}\".format(cv_accuracy_rocketsvc_B.mean())) \n",
    "cv_accuracy_rocketsvc_B"
   ]
  },
  {
   "cell_type": "markdown",
   "id": "3663caad-36f0-4b62-9bab-a942cc8c8d9a",
   "metadata": {},
   "source": [
    "#### Implementing rocket transformer with Random Forest Classifier on dataset B "
   ]
  },
  {
   "cell_type": "code",
   "execution_count": 79,
   "id": "63e77564-5aa7-405b-9c02-be2d6d99e491",
   "metadata": {},
   "outputs": [
    {
     "name": "stdout",
     "output_type": "stream",
     "text": [
      "8x CV tuned Accuracy Random Forest Classifer: 0.94\n"
     ]
    },
    {
     "data": {
      "text/plain": [
       "array([0.78125   , 0.9375    , 0.90625   , 1.        , 1.        ,\n",
       "       1.        , 0.96774194, 0.93548387])"
      ]
     },
     "execution_count": 79,
     "metadata": {},
     "output_type": "execute_result"
    }
   ],
   "source": [
    "cv_accuracy_rocketrf_B = cross_val_score(tuned_rocket_pipeline_rf, X3d_B, y_B, cv=8, verbose = 0,  n_jobs = -1 )\n",
    "print(\"8x CV tuned Accuracy Random Forest Classifer: {0:.2f}\".format(cv_accuracy_rocketrf_B.mean())) \n",
    "cv_accuracy_rocketrf_B"
   ]
  },
  {
   "cell_type": "markdown",
   "id": "805c8714",
   "metadata": {},
   "source": [
    "#### Overall Observations using the same logic of Task 3 and Task 4 on Dataset B \n",
    "1. Our subject Dataset B is significantly smaller than Dataset A, which is why I decided cross-validation seemed like a better fit to evaluate the performance of our models.\n",
    "2. From our accuracy results our finding seems to be consistent - we can observe that the logic used on Dataset A performs very well on both datasets. \n",
    "3. Both datasets A and B performed the best with a fine-tuned SVC classifier.\n",
    "4. For both datasets SVC classifier with the ROCKET Transformer of 2000 kernels performs the best. \n",
    "\n",
    "\n"
   ]
  },
  {
   "cell_type": "code",
   "execution_count": null,
   "id": "c41c51b2-6139-4a32-bd43-404694b7ec5b",
   "metadata": {},
   "outputs": [],
   "source": []
  }
 ],
 "metadata": {
  "hide_input": false,
  "kernelspec": {
   "display_name": "Python 3 (ipykernel)",
   "language": "python",
   "name": "python3"
  },
  "language_info": {
   "codemirror_mode": {
    "name": "ipython",
    "version": 3
   },
   "file_extension": ".py",
   "mimetype": "text/x-python",
   "name": "python",
   "nbconvert_exporter": "python",
   "pygments_lexer": "ipython3",
   "version": "3.11.5"
  },
  "toc": {
   "base_numbering": 1,
   "nav_menu": {},
   "number_sections": true,
   "sideBar": true,
   "skip_h1_title": false,
   "title_cell": "Table of Contents",
   "title_sidebar": "Contents",
   "toc_cell": false,
   "toc_position": {},
   "toc_section_display": true,
   "toc_window_display": false
  },
  "varInspector": {
   "cols": {
    "lenName": 16,
    "lenType": 16,
    "lenVar": 40
   },
   "kernels_config": {
    "python": {
     "delete_cmd_postfix": "",
     "delete_cmd_prefix": "del ",
     "library": "var_list.py",
     "varRefreshCmd": "print(var_dic_list())"
    },
    "r": {
     "delete_cmd_postfix": ") ",
     "delete_cmd_prefix": "rm(",
     "library": "var_list.r",
     "varRefreshCmd": "cat(var_dic_list()) "
    }
   },
   "types_to_exclude": [
    "module",
    "function",
    "builtin_function_or_method",
    "instance",
    "_Feature"
   ],
   "window_display": false
  }
 },
 "nbformat": 4,
 "nbformat_minor": 5
}
